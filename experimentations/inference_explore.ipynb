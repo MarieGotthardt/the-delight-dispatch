{
 "cells": [
  {
   "cell_type": "markdown",
   "metadata": {},
   "source": [
    "# Exploring inference methods to plan inference pipeline"
   ]
  },
  {
   "cell_type": "code",
   "execution_count": 1,
   "metadata": {
    "ExecuteTime": {
     "end_time": "2023-12-25T10:09:19.412152400Z",
     "start_time": "2023-12-25T10:09:11.037977300Z"
    }
   },
   "outputs": [],
   "source": [
    "import hopsworks\n",
    "from datetime import datetime\n",
    "import pandas as pd"
   ]
  },
  {
   "cell_type": "code",
   "execution_count": 2,
   "metadata": {
    "ExecuteTime": {
     "end_time": "2023-12-25T10:09:19.440176600Z",
     "start_time": "2023-12-25T10:09:19.416160800Z"
    }
   },
   "outputs": [
    {
     "name": "stdout",
     "output_type": "stream",
     "text": [
      "<class 'str'>\n",
      "2023-12-25\n"
     ]
    }
   ],
   "source": [
    "# Today's date ----- is this needed/helpful anywhere?\n",
    "# today = pd.to_datetime('2023-12-13').date()\n",
    "today = datetime.now().strftime('%Y-%m-%d')\n",
    "#today = datetime.now().date()\n",
    "print(type(today))\n",
    "print(today)"
   ]
  },
  {
   "cell_type": "markdown",
   "metadata": {},
   "source": [
    "## Get stored news articles"
   ]
  },
  {
   "cell_type": "code",
   "execution_count": 3,
   "metadata": {
    "ExecuteTime": {
     "end_time": "2023-12-25T10:09:32.104260800Z",
     "start_time": "2023-12-25T10:09:19.432178600Z"
    }
   },
   "outputs": [
    {
     "name": "stdout",
     "output_type": "stream",
     "text": [
      "Connected. Call `.close()` to terminate connection gracefully.\n",
      "\n",
      "Logged in to project, explore it here https://c.app.hopsworks.ai:443/p/187540\n",
      "Connected. Call `.close()` to terminate connection gracefully.\n",
      "Finished: Reading data from Hopsworks, using ArrowFlight (7.21s) from Hopsworks, using ArrowFlight.   Reading data from Hopsworks, using ArrowFlight...   Reading data from Hopsworks, using ArrowFlight.   Reading data from Hopsworks, using ArrowFlight...   Reading data from Hopsworks, using ArrowFlight.   Reading data from Hopsworks, using ArrowFlight...   \n"
     ]
    },
    {
     "data": {
      "text/plain": "                         article_id  \\\n0  dcc9522620008f6ef97502df973dd50f   \n1  e8ed1747c671fe67b9719c42338e433d   \n2  a37e8ab250f2c020f0a44d044ada7724   \n3  629ebaba27eeb1a4d2bca36ee79f2bd9   \n4  8e7ee096666a027faec3eeead571bcef   \n\n                                               title  \\\n0  CRA has fired 185 employees for ‘inappropriate...   \n1  How to build the ultimate iPhone 15 Pro 4K60 P...   \n2  Scientists uncover secrets of brain developmen...   \n3          Glenties to get a new pedestrian crossing   \n4  Pokémon Scarlet and Violet’s DLC expansion is ...   \n\n                                                link  \\\n0  https://lethbridgenewsnow.com/2023/12/20/cra-h...   \n1  https://appleinsider.com/inside/iphone-15-pro/...   \n2  https://medicalxpress.com/news/2023-12-scienti...   \n3  https://www.donegaldaily.com/2023/12/20/glenti...   \n4  https://www.techradar.com/gaming/nintendo-swit...   \n\n                                         description  \\\n0  OTTAWA - The Canada Revenue Agency says 185 em...   \n1  Shooting 4K60 ProRes video on an iPhone 15 Pro...   \n2  The human brain continues to be built after we...   \n3  Road-users and pedestrians in Glenties have be...   \n4  An epilogue for Pokémon Scarlet and Violet’s H...   \n\n                                             content     pubdate  \\\n0  OTTAWA — The Canada Revenue Agency says 185 em...  2023-12-20   \n1  Affiliate Disclosure If you buy through our li...  2023-12-20   \n2  The human brain continues to be built after we...  2023-12-20   \n3  Road-users and pedestrians in Glenties have be...  2023-12-20   \n4  Just when you thought that Pokémon Scarlet and...  2023-12-20   \n\n           source_id                                            country  \\\n0  lethbridgenewsnow                                         ['canada']   \n1       appleinsider  ['united kingdom', 'australia', 'india', 'unit...   \n2      medicalxpress                                         ['canada']   \n3       donegaldaily                                        ['ireland']   \n4          techradar                             ['australia', 'india']   \n\n         category language  \n0         ['top']  english  \n1  ['technology']  english  \n2         ['top']  english  \n3         ['top']  english  \n4  ['technology']  english  ",
      "text/html": "<div>\n<style scoped>\n    .dataframe tbody tr th:only-of-type {\n        vertical-align: middle;\n    }\n\n    .dataframe tbody tr th {\n        vertical-align: top;\n    }\n\n    .dataframe thead th {\n        text-align: right;\n    }\n</style>\n<table border=\"1\" class=\"dataframe\">\n  <thead>\n    <tr style=\"text-align: right;\">\n      <th></th>\n      <th>article_id</th>\n      <th>title</th>\n      <th>link</th>\n      <th>description</th>\n      <th>content</th>\n      <th>pubdate</th>\n      <th>source_id</th>\n      <th>country</th>\n      <th>category</th>\n      <th>language</th>\n    </tr>\n  </thead>\n  <tbody>\n    <tr>\n      <th>0</th>\n      <td>dcc9522620008f6ef97502df973dd50f</td>\n      <td>CRA has fired 185 employees for ‘inappropriate...</td>\n      <td>https://lethbridgenewsnow.com/2023/12/20/cra-h...</td>\n      <td>OTTAWA - The Canada Revenue Agency says 185 em...</td>\n      <td>OTTAWA — The Canada Revenue Agency says 185 em...</td>\n      <td>2023-12-20</td>\n      <td>lethbridgenewsnow</td>\n      <td>['canada']</td>\n      <td>['top']</td>\n      <td>english</td>\n    </tr>\n    <tr>\n      <th>1</th>\n      <td>e8ed1747c671fe67b9719c42338e433d</td>\n      <td>How to build the ultimate iPhone 15 Pro 4K60 P...</td>\n      <td>https://appleinsider.com/inside/iphone-15-pro/...</td>\n      <td>Shooting 4K60 ProRes video on an iPhone 15 Pro...</td>\n      <td>Affiliate Disclosure If you buy through our li...</td>\n      <td>2023-12-20</td>\n      <td>appleinsider</td>\n      <td>['united kingdom', 'australia', 'india', 'unit...</td>\n      <td>['technology']</td>\n      <td>english</td>\n    </tr>\n    <tr>\n      <th>2</th>\n      <td>a37e8ab250f2c020f0a44d044ada7724</td>\n      <td>Scientists uncover secrets of brain developmen...</td>\n      <td>https://medicalxpress.com/news/2023-12-scienti...</td>\n      <td>The human brain continues to be built after we...</td>\n      <td>The human brain continues to be built after we...</td>\n      <td>2023-12-20</td>\n      <td>medicalxpress</td>\n      <td>['canada']</td>\n      <td>['top']</td>\n      <td>english</td>\n    </tr>\n    <tr>\n      <th>3</th>\n      <td>629ebaba27eeb1a4d2bca36ee79f2bd9</td>\n      <td>Glenties to get a new pedestrian crossing</td>\n      <td>https://www.donegaldaily.com/2023/12/20/glenti...</td>\n      <td>Road-users and pedestrians in Glenties have be...</td>\n      <td>Road-users and pedestrians in Glenties have be...</td>\n      <td>2023-12-20</td>\n      <td>donegaldaily</td>\n      <td>['ireland']</td>\n      <td>['top']</td>\n      <td>english</td>\n    </tr>\n    <tr>\n      <th>4</th>\n      <td>8e7ee096666a027faec3eeead571bcef</td>\n      <td>Pokémon Scarlet and Violet’s DLC expansion is ...</td>\n      <td>https://www.techradar.com/gaming/nintendo-swit...</td>\n      <td>An epilogue for Pokémon Scarlet and Violet’s H...</td>\n      <td>Just when you thought that Pokémon Scarlet and...</td>\n      <td>2023-12-20</td>\n      <td>techradar</td>\n      <td>['australia', 'india']</td>\n      <td>['technology']</td>\n      <td>english</td>\n    </tr>\n  </tbody>\n</table>\n</div>"
     },
     "execution_count": 3,
     "metadata": {},
     "output_type": "execute_result"
    }
   ],
   "source": [
    "project = hopsworks.login()\n",
    "fs = project.get_feature_store()\n",
    "\n",
    "news_fg = fs.get_feature_group(name=\"news_articles\", version=6)\n",
    "news_df = news_fg.read()\n",
    "news_df.head()"
   ]
  },
  {
   "cell_type": "code",
   "execution_count": 4,
   "outputs": [
    {
     "data": {
      "text/plain": "str"
     },
     "execution_count": 4,
     "metadata": {},
     "output_type": "execute_result"
    }
   ],
   "source": [
    "type(news_df[\"country\"].iloc[0])"
   ],
   "metadata": {
    "collapsed": false,
    "ExecuteTime": {
     "end_time": "2023-12-25T10:09:32.106258600Z",
     "start_time": "2023-12-25T10:09:32.095260800Z"
    }
   }
  },
  {
   "cell_type": "code",
   "execution_count": 5,
   "outputs": [
    {
     "data": {
      "text/plain": "\"['canada']\""
     },
     "execution_count": 5,
     "metadata": {},
     "output_type": "execute_result"
    }
   ],
   "source": [
    "from ast import literal_eval\n",
    "\n",
    "#news_df[\"country\"] = news_df[\"country\"].apply(literal_eval)\n",
    "news_df[\"country\"].iloc[0]\n"
   ],
   "metadata": {
    "collapsed": false,
    "ExecuteTime": {
     "end_time": "2023-12-25T10:09:32.164384500Z",
     "start_time": "2023-12-25T10:09:32.105259600Z"
    }
   }
  },
  {
   "cell_type": "code",
   "execution_count": 6,
   "metadata": {
    "ExecuteTime": {
     "end_time": "2023-12-25T10:09:32.204539300Z",
     "start_time": "2023-12-25T10:09:32.123381800Z"
    }
   },
   "outputs": [
    {
     "name": "stdout",
     "output_type": "stream",
     "text": [
      "Number of articles: 269\n"
     ]
    }
   ],
   "source": [
    "print(\"Number of articles:\", len(news_df))"
   ]
  },
  {
   "cell_type": "code",
   "execution_count": 7,
   "outputs": [
    {
     "data": {
      "text/plain": "dtype('O')"
     },
     "execution_count": 7,
     "metadata": {},
     "output_type": "execute_result"
    }
   ],
   "source": [
    "news_df['pubdate'].dtype"
   ],
   "metadata": {
    "collapsed": false,
    "ExecuteTime": {
     "end_time": "2023-12-25T10:09:32.280141600Z",
     "start_time": "2023-12-25T10:09:32.137380800Z"
    }
   }
  },
  {
   "cell_type": "markdown",
   "metadata": {},
   "source": [
    "\n",
    "## Only keep today's articles"
   ]
  },
  {
   "cell_type": "code",
   "execution_count": 8,
   "metadata": {
    "ExecuteTime": {
     "end_time": "2023-12-25T10:09:32.283145400Z",
     "start_time": "2023-12-25T10:09:32.153386500Z"
    }
   },
   "outputs": [
    {
     "name": "stdout",
     "output_type": "stream",
     "text": [
      "Number of articles: 39\n"
     ]
    }
   ],
   "source": [
    "news_df = news_df[news_df['pubdate'] == today]\n",
    "print(\"Number of articles:\", len(news_df))"
   ]
  },
  {
   "cell_type": "markdown",
   "metadata": {},
   "source": [
    "## Add sentiments for articles"
   ]
  },
  {
   "cell_type": "code",
   "execution_count": 9,
   "metadata": {
    "ExecuteTime": {
     "end_time": "2023-12-25T10:09:43.943066700Z",
     "start_time": "2023-12-25T10:09:32.166898600Z"
    }
   },
   "outputs": [
    {
     "name": "stderr",
     "output_type": "stream",
     "text": [
      "PydanticDeprecatedSince20: Pydantic V1 style `@validator` validators are deprecated. You should migrate to Pydantic V2 style `@field_validator` validators, see the migration guide for more details. Deprecated in Pydantic V2.0 to be removed in V3.0. See Pydantic V2 Migration Guide at https://errors.pydantic.dev/2.5/migration/\n",
      "PydanticDeprecatedSince20: Pydantic V1 style `@validator` validators are deprecated. You should migrate to Pydantic V2 style `@field_validator` validators, see the migration guide for more details. Deprecated in Pydantic V2.0 to be removed in V3.0. See Pydantic V2 Migration Guide at https://errors.pydantic.dev/2.5/migration/\n",
      "PydanticDeprecatedSince20: Pydantic V1 style `@validator` validators are deprecated. You should migrate to Pydantic V2 style `@field_validator` validators, see the migration guide for more details. Deprecated in Pydantic V2.0 to be removed in V3.0. See Pydantic V2 Migration Guide at https://errors.pydantic.dev/2.5/migration/\n",
      "PydanticDeprecatedSince20: Pydantic V1 style `@validator` validators are deprecated. You should migrate to Pydantic V2 style `@field_validator` validators, see the migration guide for more details. Deprecated in Pydantic V2.0 to be removed in V3.0. See Pydantic V2 Migration Guide at https://errors.pydantic.dev/2.5/migration/\n",
      "PydanticDeprecatedSince20: Pydantic V1 style `@validator` validators are deprecated. You should migrate to Pydantic V2 style `@field_validator` validators, see the migration guide for more details. Deprecated in Pydantic V2.0 to be removed in V3.0. See Pydantic V2 Migration Guide at https://errors.pydantic.dev/2.5/migration/\n",
      "PydanticDeprecatedSince20: Pydantic V1 style `@validator` validators are deprecated. You should migrate to Pydantic V2 style `@field_validator` validators, see the migration guide for more details. Deprecated in Pydantic V2.0 to be removed in V3.0. See Pydantic V2 Migration Guide at https://errors.pydantic.dev/2.5/migration/\n",
      "PydanticDeprecatedSince20: Pydantic V1 style `@validator` validators are deprecated. You should migrate to Pydantic V2 style `@field_validator` validators, see the migration guide for more details. Deprecated in Pydantic V2.0 to be removed in V3.0. See Pydantic V2 Migration Guide at https://errors.pydantic.dev/2.5/migration/\n",
      "PydanticDeprecatedSince20: Pydantic V1 style `@validator` validators are deprecated. You should migrate to Pydantic V2 style `@field_validator` validators, see the migration guide for more details. Deprecated in Pydantic V2.0 to be removed in V3.0. See Pydantic V2 Migration Guide at https://errors.pydantic.dev/2.5/migration/\n",
      "PydanticDeprecatedSince20: Pydantic V1 style `@validator` validators are deprecated. You should migrate to Pydantic V2 style `@field_validator` validators, see the migration guide for more details. Deprecated in Pydantic V2.0 to be removed in V3.0. See Pydantic V2 Migration Guide at https://errors.pydantic.dev/2.5/migration/\n",
      "PydanticDeprecatedSince20: Pydantic V1 style `@validator` validators are deprecated. You should migrate to Pydantic V2 style `@field_validator` validators, see the migration guide for more details. Deprecated in Pydantic V2.0 to be removed in V3.0. See Pydantic V2 Migration Guide at https://errors.pydantic.dev/2.5/migration/\n",
      "No model was supplied, defaulted to distilbert-base-uncased-finetuned-sst-2-english and revision af0f99b (https://huggingface.co/distilbert-base-uncased-finetuned-sst-2-english).\n",
      "Using a pipeline without specifying a model name and revision in production is not recommended.\n"
     ]
    }
   ],
   "source": [
    "from transformers import pipeline\n",
    "sentiment_pipeline = pipeline(\"sentiment-analysis\")"
   ]
  },
  {
   "cell_type": "code",
   "execution_count": 10,
   "metadata": {
    "ExecuteTime": {
     "end_time": "2023-12-25T10:09:43.960829400Z",
     "start_time": "2023-12-25T10:09:43.945144200Z"
    }
   },
   "outputs": [],
   "source": [
    "def format_sentiment(sentiment):\n",
    "    if sentiment['label'] == 'NEGATIVE':\n",
    "        return sentiment['score'] * -1\n",
    "    else:\n",
    "        return sentiment['score']\n",
    "\n",
    "def get_sentiment_value(news_object, sentiment_pipeline):\n",
    "    return format_sentiment(sentiment_pipeline(news_object['title'])[0])"
   ]
  },
  {
   "cell_type": "code",
   "execution_count": 11,
   "metadata": {
    "ExecuteTime": {
     "end_time": "2023-12-25T10:09:45.586501100Z",
     "start_time": "2023-12-25T10:09:43.958824200Z"
    }
   },
   "outputs": [],
   "source": [
    "news_df['sentiment'] = news_df.apply(get_sentiment_value, sentiment_pipeline=sentiment_pipeline, axis=1)"
   ]
  },
  {
   "cell_type": "code",
   "execution_count": 12,
   "outputs": [
    {
     "data": {
      "text/plain": "230   -0.710903\n231   -0.993367\n232    0.997036\n233    0.997036\n234   -0.647142\n235   -0.568736\n236   -0.991280\n237   -0.993367\n238   -0.988592\n239    0.820120\n240    0.997656\n241   -0.996427\n242   -0.977887\n243   -0.931647\n244    0.992721\n245    0.997656\n246   -0.968012\n247    0.994380\n248   -0.998624\n249    0.998703\n250   -0.997069\n251   -0.993995\n252   -0.961167\n253    0.998866\n254   -0.947101\n255    0.996126\n256   -0.997069\n257   -0.999413\n258    0.995404\n259    0.999520\n260    0.997036\n261   -0.931647\n262    0.990994\n263   -0.990683\n264   -0.993367\n265   -0.999344\n266    0.987263\n267   -0.993367\n268   -0.899623\nName: sentiment, dtype: float64"
     },
     "execution_count": 12,
     "metadata": {},
     "output_type": "execute_result"
    }
   ],
   "source": [
    "news_df['sentiment'] "
   ],
   "metadata": {
    "collapsed": false,
    "ExecuteTime": {
     "end_time": "2023-12-25T10:09:45.599499900Z",
     "start_time": "2023-12-25T10:09:45.587500800Z"
    }
   }
  },
  {
   "cell_type": "code",
   "execution_count": 13,
   "metadata": {
    "ExecuteTime": {
     "end_time": "2023-12-25T10:09:45.657595400Z",
     "start_time": "2023-12-25T10:09:45.598498400Z"
    }
   },
   "outputs": [
    {
     "name": "stdout",
     "output_type": "stream",
     "text": [
      "<class 'pandas.core.frame.DataFrame'>\n",
      "Index: 39 entries, 230 to 268\n",
      "Data columns (total 11 columns):\n",
      " #   Column       Non-Null Count  Dtype  \n",
      "---  ------       --------------  -----  \n",
      " 0   article_id   39 non-null     object \n",
      " 1   title        39 non-null     object \n",
      " 2   link         39 non-null     object \n",
      " 3   description  39 non-null     object \n",
      " 4   content      39 non-null     object \n",
      " 5   pubdate      39 non-null     object \n",
      " 6   source_id    39 non-null     object \n",
      " 7   country      39 non-null     object \n",
      " 8   category     39 non-null     object \n",
      " 9   language     39 non-null     object \n",
      " 10  sentiment    39 non-null     float64\n",
      "dtypes: float64(1), object(10)\n",
      "memory usage: 3.7+ KB\n"
     ]
    }
   ],
   "source": [
    "news_df.info()"
   ]
  },
  {
   "cell_type": "markdown",
   "metadata": {},
   "source": [
    "## Calculate today's average sentiment"
   ]
  },
  {
   "cell_type": "code",
   "execution_count": 14,
   "metadata": {
    "ExecuteTime": {
     "end_time": "2023-12-25T10:09:45.660594800Z",
     "start_time": "2023-12-25T10:09:45.633095900Z"
    }
   },
   "outputs": [
    {
     "data": {
      "text/plain": "-0.19767473752682024"
     },
     "execution_count": 14,
     "metadata": {},
     "output_type": "execute_result"
    }
   ],
   "source": [
    "avg_sentiment = news_df['sentiment'].mean()\n",
    "avg_sentiment"
   ]
  },
  {
   "cell_type": "markdown",
   "metadata": {},
   "source": [
    "## Find today's most positive article"
   ]
  },
  {
   "cell_type": "code",
   "execution_count": 15,
   "metadata": {
    "ExecuteTime": {
     "end_time": "2023-12-25T10:09:45.714549500Z",
     "start_time": "2023-12-25T10:09:45.646598200Z"
    }
   },
   "outputs": [
    {
     "data": {
      "text/plain": "\"['canada']\""
     },
     "execution_count": 15,
     "metadata": {},
     "output_type": "execute_result"
    }
   ],
   "source": [
    "most_positive = news_df.loc[news_df['sentiment'].idxmax()]\n",
    "most_positive[\"country\"]"
   ]
  },
  {
   "cell_type": "code",
   "execution_count": 16,
   "outputs": [
    {
     "name": "stdout",
     "output_type": "stream",
     "text": [
      "<class 'pandas.core.frame.DataFrame'>\n",
      "Index: 1 entries, 259 to 259\n",
      "Data columns (total 11 columns):\n",
      " #   Column       Non-Null Count  Dtype \n",
      "---  ------       --------------  ----- \n",
      " 0   article_id   1 non-null      object\n",
      " 1   title        1 non-null      object\n",
      " 2   link         1 non-null      object\n",
      " 3   description  1 non-null      object\n",
      " 4   content      1 non-null      object\n",
      " 5   pubdate      1 non-null      object\n",
      " 6   source_id    1 non-null      object\n",
      " 7   country      1 non-null      object\n",
      " 8   category     1 non-null      object\n",
      " 9   language     1 non-null      object\n",
      " 10  sentiment    1 non-null      object\n",
      "dtypes: object(11)\n",
      "memory usage: 96.0+ bytes\n"
     ]
    }
   ],
   "source": [
    "most_positive = pd.DataFrame(most_positive).T\n",
    "most_positive.info()"
   ],
   "metadata": {
    "collapsed": false,
    "ExecuteTime": {
     "end_time": "2023-12-25T10:09:45.716546500Z",
     "start_time": "2023-12-25T10:09:45.661591200Z"
    }
   }
  },
  {
   "cell_type": "code",
   "execution_count": 17,
   "metadata": {
    "ExecuteTime": {
     "end_time": "2023-12-25T10:09:45.771397800Z",
     "start_time": "2023-12-25T10:09:45.676599500Z"
    }
   },
   "outputs": [
    {
     "data": {
      "text/plain": "259    2023-12-25\nName: pubdate, dtype: object"
     },
     "execution_count": 17,
     "metadata": {},
     "output_type": "execute_result"
    }
   ],
   "source": [
    "most_positive.pubdate"
   ]
  }
 ],
 "metadata": {
  "kernelspec": {
   "display_name": "id2223",
   "language": "python",
   "name": "python3"
  },
  "language_info": {
   "codemirror_mode": {
    "name": "ipython",
    "version": 3
   },
   "file_extension": ".py",
   "mimetype": "text/x-python",
   "name": "python",
   "nbconvert_exporter": "python",
   "pygments_lexer": "ipython3",
   "version": "3.8.18"
  }
 },
 "nbformat": 4,
 "nbformat_minor": 2
}
