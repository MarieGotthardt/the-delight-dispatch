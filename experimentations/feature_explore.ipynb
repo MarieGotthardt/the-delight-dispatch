{
 "cells": [
  {
   "cell_type": "markdown",
   "metadata": {},
   "source": [
    "# Exploring news data to plan feature pipeline"
   ]
  },
  {
   "cell_type": "markdown",
   "metadata": {},
   "source": [
    "## Get API key"
   ]
  },
  {
   "cell_type": "code",
   "execution_count": 1,
   "outputs": [],
   "source": [
    "import os\n",
    "api_key= os.environ[\"NEWS_DATA_KEY\"]\n"
   ],
   "metadata": {
    "collapsed": false,
    "ExecuteTime": {
     "end_time": "2023-12-31T14:22:14.822837800Z",
     "start_time": "2023-12-31T14:22:14.797839700Z"
    }
   }
  },
  {
   "cell_type": "code",
   "execution_count": 2,
   "metadata": {
    "ExecuteTime": {
     "end_time": "2023-12-31T14:22:14.853818100Z",
     "start_time": "2023-12-31T14:22:14.815840600Z"
    }
   },
   "outputs": [],
   "source": [
    "# temporary key access method (add a API secret to repo)\n",
    "#with open(\"./NEWS_DATA_KEY.txt\", \"r\") as file:\n",
    "#    api_key = file.read()"
   ]
  },
  {
   "cell_type": "markdown",
   "metadata": {},
   "source": [
    "## Get articles"
   ]
  },
  {
   "cell_type": "code",
   "execution_count": 3,
   "metadata": {
    "ExecuteTime": {
     "end_time": "2023-12-31T14:22:21.026769400Z",
     "start_time": "2023-12-31T14:22:14.832611200Z"
    }
   },
   "outputs": [],
   "source": [
    "from newsdataapi import NewsDataApiClient\n",
    "from datetime import datetime\n",
    "\n",
    "# Create a NewsData API client\n",
    "client = NewsDataApiClient(apikey=api_key)\n",
    "\n",
    "# Today's date in the required format\n",
    "today = datetime.now().strftime('%Y-%m-%d')\n",
    "\n",
    "# Collect articles from many countries in a list\n",
    "all_articles = []\n",
    "country_codes = ['us', 'ca', 'ie', 'gb', 'au', 'nz']\n",
    "language = 'en'\n",
    "\n",
    "for country_code in country_codes:\n",
    "    # Fetch the news\n",
    "    response = client.news_api(country=country_code, language=language)\n",
    "\n",
    "    # Process the response\n",
    "    if 'status' in response and response['status'] == 'success':\n",
    "        articles = response['results']\n",
    "        # Process the articles as needed\n",
    "        for article in articles:\n",
    "            all_articles.append(article)\n",
    "    else:\n",
    "        print(\"Failed to retrieve data:\", response.get('message', 'Unknown Error'))"
   ]
  },
  {
   "cell_type": "code",
   "execution_count": null,
   "outputs": [],
   "source": [],
   "metadata": {
    "collapsed": false
   }
  },
  {
   "cell_type": "code",
   "execution_count": 4,
   "metadata": {
    "ExecuteTime": {
     "end_time": "2023-12-30T11:32:54.989798700Z",
     "start_time": "2023-12-30T11:32:54.973771600Z"
    }
   },
   "outputs": [
    {
     "name": "stdout",
     "output_type": "stream",
     "text": [
      "[{'article_id': '4d48ce03a75e7d160a33bfd3a06bf0ca', 'title': 'The 16 Best Burger Chains In The USA', 'link': 'https://www.thedailymeal.com/1479303/best-american-burger-chains/', 'keywords': ['restaurants'], 'creator': ['staff@thedailymeal.com (Trevor Carlson)'], 'video_url': None, 'description': \"For as easy as it is to find a burger in America, the quality is across the board. To help you choose, we've compiled some of the best burger chains in the USA.\", 'content': \"It's hard to beat a good burger. Rich and tasty yet widely accessible and unpretentious, burgers pack a big punch of beefy flavor like no other, reigning supreme in the land of handheld fare. There's something undeniably satisfying about biting into a burger that's nice and juicy with a luscious touch of char. Fortunately, there are countless burger chains here in the USA to help us get our fix when hunger strikes. Yet, overall burger quality tends to vary quite dramatically between chains. Some chains have mastered the art of the grill, pumping out cheeseburgers that truly hit the spot, while other chains don't really feel worth the trip, charging diners for sub-par, overly processed meals of questionable sustenance. Ingredient quality, menu options, and affordability are just a few of the factors at play in determining the greatness of a burger chain. To help steer you in the right direction, I've gathered up a list of some of the best burger chains in the country, compiled from a combination of staff picks, personal recommendations, and diner reviews. 1. PDX Sliders (Portland, OR) Portland, Oregon, is widely considered to have some of the best food in the country. Between its vast network of award-winning restaurants, farmers markets, food cart pods, and penchant for showcasing deliciously creative menus with locally sourced ingredients, Portland has become a national beacon of culinary delights. The city's flair for flavor can be witnessed across diverse cuisines, ranging from more upscale eateries to casual burger joints like PDX Sliders. PDX Sliders specializes in sandwiches and burgers that are available in two sizes: full-sized sandwiches or smaller sliders for about half the price. The restaurant only has a couple of locations in the city and has managed to gracefully ascend the heights of Portland's restaurant scene in a relatively short amount of time — which is a testament to just how good the food is. Great attention is paid to every aspect of the burgers at PDX Sliders. The brioche buns are perfectly toasted, the burgers are bursting with flavor, and the toppings are fresh and properly proportioned. The restaurant sells cheeseburgers with standard ingredients like onions and pickles but also isn't afraid to throw some curveballs by slinging other surprising options like burgers topped with goat cheese and strawberry preserves — a concoction that deliciously blurs the line between sweet and savory. Once newcomers sink their teeth into a burger at PDX Sliders, the city's reputation as a food-lover's paradise will make perfect sense. 2. Harlem Shake (NYC) Praised by for having one of the best patty melts in New York City, Harlem Shake is famous for its smash burgers. For the uninitiated, are pressed thin on a hot griddle until the beef gets crispy around the edges from searing in its own fat. The end result is a craggy and luxuriously succulent burger that's easy to make yet deeply delicious. Harlem Shake's burgers all come with double beef patties that are made with a proprietary blend of chuck, rib, and brisket. The restaurant serves its burgers on toasted potato buns and offers three different beef burgers, as well as two burgers made with Impossible patties and a homemade veggie burger. One of the standouts on the menu is the Hot Mess burger, which comes with pickled cherry pepper and bacon relish, American cheese, and smoky chipotle mayo. The restaurant also offers plenty of additional toppings to customize its burgers. Harlem Shake even caters to various fry preferences with a variety of fries to pick from, including curly fries, sweet potato fries, regular fries, and parmesan truffle fries. Between its delicious smash burgers made with a custom blend of beef, eclectic toppings, and its signature milkshake made with red velvet cake, there's no doubt that Harlem Shake is one of the best burger joints in the country. The only downside here is that because the chain only has a few locations around New York City, it's hyper regional. 3. Dick's Drive In (Seattle area/various locations) With several locations scattered around Seattle, Dick's Drive In is a small regional chain that's been serving some of the best fast food burgers in the area since 1954. It's worth noting that renowned chef and food journalist J. Kenji Lopez-Alt — whose Instagram endorsements have enough power to flood restaurants with streams of new customers — has for its simple yet succulent cheeseburgers. The menu at Dick's couldn't really be any more basic. The burgers on offer are either served plain, with ketchup and mustard, or with lettuce and tartar sauce. In true fast food fashion, the burgers are cooked, wrapped, and then placed in a warmer where they briefly await their final destiny. This momentary limbo allows the burger to take on a delightfully steamed quality in its wrapper, while the cheese, beef, and toppings deliciously fuse into each other. Dick's is a shining example of what every fast food joint should strive to be: ultra quick, super cheap, and truly tasty. Because the company is also known to pay its employees well and offer good benefits, Dick's is beloved by the community not only for its crave-worthy food but also for the way it values its workers. Between its affordable yet flavorful burgers and its reputable gratitude for the labor force that drives its success, Dick's is easily one of the leading burger chains in the USA. 4. DMK Burger Bar (Chicago, IL) The burgers at DMK Burger Bar are made with 100% grass-fed beef. The restaurant also offers burgers made with bison and turkey. One of the things that makes DMK exceptional is the wider range of ingredients that are available on the menu. Most burger chains only have a handful of cheeses, such as cheddar, American, and Swiss, but DMK's menu goes the extra mile in the cheese department, offering everything from goat cheese and gouda to fontina and Merkt's cheddar — a creamy and deeply flavorful cheese spread. The fries are hand-cut, the sauces are house-made, and the restaurant also features craft cocktails and local beer. DMK is the kind of place that you can hang for hours on end to enjoy drinks with much better grub than you would find in a typical bar. Another thing that makes DMK unique is its extensive fry menu. Not content to simply just offer plain fries, the kitchen whips up a variety of flavor combinations for its fries that include blue cheese and bacon, Sriracha mayo and chili powder, and sweet potato fries served with lemon Tabasco aioli. DMK's smartly curated menu and tasty execution of its dishes put it well ahead of the pack in the world of burger chains. 5. Wayback Burgers (various locations) George Motz — cookbook author, restaurant owner, and widely respected hamburger historian — is one of the country's leading authorities on what constitutes a great cheeseburger. So when Motz says that Wayback Burgers is one of the best burger chains in the USA (via ), it's an opinion that shouldn't be taken lightly. As someone who's so well-educated on the subject and has poured his heart and soul into opening his own burger joint, Hamburger America, an endorsement from Motz is clearly worth its weight in gold. The Classic at Wayback Burgers lives up to its name with two beef patties grilled to order, American cheese, lettuce, tomato, pickles, onions, mustard, and ketchup. But what makes Wayback really stand out from the competition are the little unexpected twists on the menu, like its Big Easy burger with Cajun remoulade or its Cinnamon Toast Crunch milkshake. Wayback also frequently runs limited-time menu items like its Southwest burger topped with chili, pepper jack cheese, and crunchy corn chips — which is basically a reincarnated in burger form. Wayback's burgers are inspired and well-executed, landing it a much-deserved slot as one of the best burger chains in America. 6. The Habit Burger Grill (various locations) With hundreds of locations in California and dozens of other spots scattered around the country, The Habit Burger Grill definitely isn't a small regional chain, but it isn't exactly a mega chain, either. Instead, it lands in that seldom-seen space somewhere in between — big enough to amass a cult-like following yet obscure enough to retain some mystique and still feel like a somewhat exclusive club on the fringes. We'd be remiss to not mention one of Habit's main attractions on the menu right off the bat: the tempura green beans. Lightly battered and fried to a crispy golden brown, Habit's tempura green beans are served with a creamy side of ranch dressing as a zesty dipping sauce. While green beans aren't something that most of us typically associate with burger culture, Habit proves that thinking outside of the box can be triumphant. Another popular menu item is the Santa Barbara Char, made with two beef patties, creamy chunks of fresh avocado, caramelized onions, American cheese, shredded lettuce, tomato, pickles, and mayo on toasted sourdough. Another highlight is the Portabella Char burger. While many other burger chains are content to top mushroom burgers with a small dollop of sautéed mushrooms, Habit rises to the occasion to exceed expectations with big, beefy portabella mushrooms. The oversized portabellas let the mushroom flavor take center stage on this burger, making it a must for mushroom-loving diners. 7. White Hut (Massachusetts) Open since 1939, White Hut only has a couple of locations in Massachusetts, but the partners behind White Hut's business operations have plans to expand the concept into new territory. White Hut is often considered one of the state's best burger shops — and for good reason. The restaurant is well-known for its fried onion burgers that are smothered with sautéed onions fresh from the griddle. Burgers can be customized with additional toppings such as onion rings, bacon, cheese sauce, and chili. White Hut also sells dozen-burger bundles that make it easy to feed a crowd. The restaurant is open for breakfast, too, and offers a handful of breakfast sandwiches served on rolls. The Paper City Special — made with a sausage patty, scrambled eggs, a crispy hash brown, American cheese, and fried onions — is a popular choice. White Hut also has desserts lined up with sweet treats like sundaes, milkshakes, and floats. Whether diners are looking to score a solid meal to kick off the day or a juicy burger for lunch or dinner, White Hut is a wise choice with a classic and delicious menu. 8. Jack's Old Fashion Hamburger House (Ft. Lauderdale, FL) Open since 1972, Jack's Old Fashion Hamburger House, featuring two locations in Fort Lauderdale, Florida, has withstood the test of time for generations. Between the retro signage and wooden paneling, Jack's has a cozy, vintage vibe that feels like stepping into a bygone era where, once upon a time, bell bottoms and disco were all the rage. The major lure of Jack's is that the restaurant grinds its own beef every day from brisket and steak and cooks each of its burgers to order, which gives them a fresh flavor that's hard to find at other chain restaurants. Jack's keeps the menu simple. The burgers come in three sizes: Jack Junior (¼ pound), Original (⅓ pound), and Big Jack (½ pound). Diners can add a variety of toppings to their burgers for a modest additional charge. Jack's also offers hot dogs and a few sandwiches, but make no mistake: the real reason to come here is the cheeseburgers. The restaurant has a condiment bar in the middle of the dining area with complementary toppings like pickles, relish, mustard, ketchup, mayo, and hot sauce. It's getting harder to find long-standing landmarks like Jack's in the southern tip of the Sunshine State, as big businesses swoop in to overtake mom and pop shops. Jack's resilience and dedication to handmade simplicity and freshness makes it a true rarity in the increasingly corporate-dominated, ever-changing landscape of South Florida. Scoring a burger at Jack's, you can't quite shake the feeling that you're also rooting for the underdog. 9. P. Terry's Burger Stand (Texas) Taking cues from classic burger joints of the 1950s, P. Terry's Burger Stand opened its doors in 2005. The restaurant's vision is to offer affordable quick-service food with a higher level of freshness that's seldom seen in bigger chains. And with its fresh-cut fries and other scratch-made menu items like homemade veggie burgers and freshly squeezed lemonade, it's no wonder that P. Terry's concept has been well-received by so many diners that its drive-thrus have been known to trigger traffic jams. The menu at P. Terry's is concise, with only a few types of burgers (hamburger, cheeseburger, and double cheeseburger), a couple of chicken sandwiches (grilled and fried), and a black bean veggie burger. There are also milkshakes, cookies, breakfast sandwiches, and homemade banana bread. The burgers are on the thin side, but the prices are cheap. This isn't the kind of place you go to get a massive, gourmet burger. P. Terry's is meant to be a refreshingly elevated alternative to the highly processed, mass-produced fare peddled by more well-known, ubiquitous mega burger chains. When you want a fresh, affordable burger conveniently served at a drive-thru, you'd be hard-pressed to find a better alternative than P. Terry's. 10. BRGR Stop (South Florida) Located in South Florida between the beach and the Everglades, BRGR Stop is a regional chain with locations in Ft. Lauderdale and Coconut Creek. The restaurant doesn't have the quick-service appeal or the low prices of a fast food chain — but what it does have are amazingly indulgent burgers that are worth every penny. At BRGR Stop you'll find burgers topped with ingredients like brie and blueberry jalapeño jam or smothered in havarti mac and cheese. The Friendly Ghost — ½ pound of beef paired with ghost pepper pineapple jam and candied bacon — exemplifies the restaurant's proclivity to succulently straddle the line between sweet and spicy. This isn't the kind of place that's best suited for diners who just want a simple cheeseburger on the go. It's much more of a place for people who want to take their time experiencing big, bold flavors over a few beers. The restaurant has plenty of other equally tempting options in the sandwich department, like a cheesesteak made with prime ribeye that's infused with duck fat. BRGR Stop isn't for the faint of heart, but let's be honest: None of the best cheeseburgers ever are. 11. Burgerville (Oregon and Washington) Burgerville has locations around the Pacific Northwest, mostly concentrated around Portland, Oregon, and Vancouver, Washington. The restaurant makes burgers and sandwiches and also has a breakfast menu that offers biscuits, hash browns, and breakfast burritos. Burgerville uses local ingredients like Tillamook cheese and Grand Central Bakery brioche buns. Burgerville also features grass-fed beef which gives the burgers a stronger, beefier flavor. The burgers at Burgerville typically stick to traditional toppings like ketchup, pickles, and red onions. The restaurant's strength lies within its talent to quickly craft fast-food style burgers that manage to taste fresher and juicier than many bigger burger chains. The company makes many of its own signature dipping sauces, too, such as chipotle mayo and garlic aioli. Burgerville frequently offers limited-time specials with seasonal menu items like rosemary sea salt fries and cocoa peppermint ice cream sundaes. If you're looking for a quick bite around Portland or Vancouver, Burgerville is totally worth the pit stop. 12. Five Guys A big part of what makes so appealing is how its menu invites customization. Burgers can be topped with ingredients like grilled mushrooms, onions, and barbecue sauce. Five Guys also has fresh jalapeños — a fairly uncommon topping among most burger chains. When burger chains do feature jalapeños, they tend to be pickled. But the freshness of the jalapeños at Five Guys gives the burgers some serious spice and crunch that helps nudge the chain's offerings into the realm of excellence. The burgers at Five Guys are definitely a little messy and greasy in the best way possible. The menu isn't overly complicated, but the food the kitchen pumps out is deeply flavorful and perfectly seasoned. The burgers have a somewhat smashed texture that gives them a light crust but a juicy interior. The fries are made on-site with fresh potatoes, which gives them a more natural flavor. The restaurant also offers lettuce-wrapped burgers for those with certain preferences or dietary restrictions. But unlike other chains that offer this option, the lettuce-wrapped burger at Five Guys feels heftier and better assembled. 13. Shake Shack Shake Shack uses a custom burger blend — the precise recipe seems sworn to secrecy, so the exact beef cuts and fat ratio remain intriguingly elusive. Here's what we know: The burgers are simply seasoned with salt and pepper and smashed on the griddle, but they're still on the thick side, creating a tender burger with a light crust around the edges. The potato buns are perfectly toasted yet still soft and pleasantly squishy. What all of this adds up to is one of the best burgers in the game. Shake Shack gets high marks across the board for consistently mastering each step of the process in a way that's rare and commendable for such a large-scale operation. Another point that's praise-worthy: the inclusion of cherry peppers on the menu. While plenty of other chains may offer jalapeños, cherry peppers seem harder to come by. The pickled cherry peppers at Shake Shack strike a delicate balance between sweet and spicy that's far more subtle and complex when compared to jalapeños. The restaurant showcases this in full effect with its SmokeShack burger — one of the best chain burgers ever created — that's topped with chopped cherry peppers, creamy ShackSauce, and strips of applewood-smoked bacon. When it comes to mushroom burgers, the Shroom Burger is hard to top, made with a massive portobello mushroom that's stuffed with cheese, breaded, and fried to perfection. There's no doubt that Shake Shack sets the bar high for every other burger chain. 14. In-N-Out Burger In-N-Out has achieved an almost mythical status among burger enthusiasts. It comes down to the details — consider the fact that In-N-Out doesn't own any microwaves or freezers. While countless burger chains depend on those two devices for the sake of convenience, In-N-Out openly rejects them in favor of a fresher approach. Burger patties are formed with fresh chuck beef and freshly ground by the restaurant's workers and made to order on the grill. Vegetables like onions and tomatoes are carefully selected, ensuring a high caliber of quality and freshness. While you won't find the menu particularly inventive, what you will find is an honest, classic burger that hits the spot. Burgers typically come with fresh lettuce, sliced onions, American cheese, and tomatoes, along with In-N-Out's tangy and legendary sauce. Each of these ingredients form a burger that's greater than the sum of its parts. You haven't truly lived until you've had a Double Double Animal Style — in-house lingo for a burger cooked with a drizzle of mustard and topped with added pickles, grilled onions, and extra sauce. 15. Culver's The menu at is impressively expansive, and the burgers are fresh and flavorful. The burgers are pressed onto the griddle to sear before being placed on a fluffy bun. While many fast food restaurants don't offer patty melts, Culver's has two varieties: one with Swiss and red onions and another with Wisconsin-aged cheddar served on toasted sourdough. While the burgers are definitely top-tier for a big chain, Culver's truly shines when it comes to its frozen custard. The restaurant makes its frozen custard all day long to ensure that each batch is fresh and creamy. Culver's features special flavors of the day, like Butter Pecan and Devil's Food Cake, that are nearly impossible to resist and make the perfect companion to its cheeseburgers. There's a reason that esteemed chef — it's one of the best burger chains in the business. If you've never been, it's definitely time to change that. 16. Wendy's Without a doubt, Wendy's is one of the biggest burger chains in the country and one of the largest companies on this list, sprawling across the USA with thousands of locations. Compared to the other major burger chains that dominate the market, the burgers at Wendy's feel more filling and satisfying. The Baconator — a mammoth ½ pound cheeseburger topped with six strips of bacon — is a testament to the company's unabashed embrace of indulgence. Wendy's uses fresh and never frozen beef patties that don't have any fillers or additives. The Junior Bacon Cheeseburger (which is like the love child of a BLT and a cheeseburger) is another selling point. Topped with bacon, lettuce, tomato, mayo, and cheese, this is easily one of the best fast-food burgers from a large chain. The company's signature square burger patties also make it possible to luxuriate in biting into a crispy corner of beef — a feat that's seemingly not geometrically possible in an endless sea of circular burgers. There's also something strangely satisfying about dipping a few fries into a cold Frosty and tasting the contrast between them. Wendy's may not have the fanciest burgers out there, but we aren't going to pretend that its burgers aren't delicious and comforting. The truth is that when a burger craving strikes — especially a case of the late-night munchies — you'd be hard-pressed to find a tastier option after midnight. Methodology The restaurants in this article were selected from a mix of personal dining experiences, staff recommendations, and food reviews from customers and chefs.\", 'pubDate': '2023-12-30 11:25:54', 'image_url': 'https://www.thedailymeal.com/img/gallery/the-16-best-burger-chains-in-the-usa/l-intro-1703693981.jpg', 'source_id': 'thedailymeal', 'source_priority': 2761, 'country': ['united states of america'], 'category': ['top'], 'language': 'english', 'ai_tag': 'ONLY AVAILABLE IN PROFESSIONAL AND CORPORATE PLAN', 'sentiment': 'ONLY AVAILABLE IN PROFESSIONAL AND CORPORATE PLAN', 'sentiment_stats': 'ONLY AVAILABLE IN PROFESSIONAL AND CORPORATE PLAN'}, {'article_id': 'e1246ef16e1d493b3aef5a30f74b2634', 'title': 'Ukraine Faces Growing Calls From US to Cede Land to Russia', 'link': 'https://www.newsweek.com/republican-jd-vance-ukraine-russia-war-1856685', 'keywords': None, 'creator': None, 'video_url': None, 'description': 'Republican Senator J.D. Vance said Ukraine should cede land to Russia to end the war, started by Russian invasion.', 'content': 'Hold us accountable by rating this article\\'s fairness A Republican senator has said Ukraine could give land to Russia in \"America\\'s best interest\" to put an end to the war there. Ohio Senator said it was preposterous to think that the Ukrainian military was going to force Russian troops back to the border crossed during the invasion in February 2022. Vance told \\'s : \"What\\'s in America\\'s best interest is to accept Ukraine is going to have to cede some territory to the Russians and we need to bring this war to a close.\" The Biden administration has been a staunch backer of Ukrainian efforts to repel \\'s Russian invaders, but President has faced difficulty getting his latest request for funding through . A Republican-controlled House has not approved Biden\\'s funding request of $106 billion, which includes $61 billion in additional aid for Ukraine. Also contained in the bill are funds for Israel and U.S. border security, a key negotiating point for . \"What we\\'re saying to the president, and really to the entire world, is you need to articulate what the ambition is; what is $61 billion going to accomplish that $100 billion hasn\\'t?\" Vance said. The Kiel Institute for the World Economy estimated that more than $79 billion in financial, humanitarian and military aid had been sent by the U.S. to Ukraine since the Russian invasion. Vance isn\\'t alone in his party. In February, Florida Representative introduced a resolution co-sponsored by 10 other House Republicans to end aid to Ukraine. is the lack of movement in the war. That is, significant numbers in aid has been sent to Ukraine, but it remains unlikely that it will become victorious against Putin\\'s forces and push them out. Security expert Dr. Rod Thornton of the Defense Studies Department at King\\'s College London that the war is expected to remain as something of a stalemate for months to come. \"What we are going to end up is a frozen conflict,\" Thornton said. \"We are going to end up with Russian-occupied areas of Ukraine and the front lines aren\\'t going to move.\" On December 29, on Ukraine, whose officials said strike sites included residential buildings, a maternity hospital and school. Biden called it Russia\\'s \"largest aerial assault on Ukraine since this war began.\" He used the strikes to call for Congress to pass more aid for Ukraine. Biden said in a statement on December 29: \"In the face of this brutal attack, Ukraine deployed the air defense systems that the United States and our Allies and partners have delivered to Ukraine over the past year to successfully intercept and destroy many of the missiles and drones.\" A total of 114 out of 158 missiles used in the attack were shot down, the Ukrainian Air Force said. has been as yet unable to verify these figures. Biden added: \"The American people can be proud of the lives we have helped to save and the support we have given Ukraine as it defends its people, its freedom, and its independence. \"But, unless Congress takes urgent action in the new year, we will not be able to continue sending the weapons and vital air-defense systems Ukraine needs to protect its people. Congress must step up and act without any further delay,\" the president added. Newsweek is committed to challenging conventional wisdom and finding connections in the search for common ground. Newsweek is committed to challenging conventional wisdom and finding connections in the search for common ground.', 'pubDate': '2023-12-30 11:24:11', 'image_url': 'https://d.newsweek.com/en/full/2329845/jd-vance.jpg?w=1200&f=a087911e3cc7cabab37c45a89e576af9', 'source_id': 'newsweek', 'source_priority': 537, 'country': ['united states of america'], 'category': ['top'], 'language': 'english', 'ai_tag': 'ONLY AVAILABLE IN PROFESSIONAL AND CORPORATE PLAN', 'sentiment': 'ONLY AVAILABLE IN PROFESSIONAL AND CORPORATE PLAN', 'sentiment_stats': 'ONLY AVAILABLE IN PROFESSIONAL AND CORPORATE PLAN'}, {'article_id': 'dbe37546c1a24fdf106925866b04ca72', 'title': 'Instagram influencers, watch out: AI is already coming for your jobs', 'link': 'https://www.businessinsider.com/ai-already-replacing-instagram-influencers-jobs-2023-12', 'keywords': None, 'creator': ['Aaron Mok'], 'video_url': None, 'description': None, 'content': 'AI influencers may be taking work away from human influencers , the FT reported. Virtual influencers — who look like real people — are striking six-figure deals with luxury brands. One of the companies behind an AI influencer cited an effort to cut marketing costs. NEW LOOK Sign up to get the inside scoop on today’s biggest stories in markets, tech, and business — delivered daily. Read preview Thanks for signing up! Access your favorite topics in a personalized feed while you\\'re on the go. download the app Email address Sign up By clicking “Sign Up”, you accept our Terms of Service and Privacy Policy . You can opt-out at any time. Advertisement AI seems to be coming for the $250 billion creator economy as companies start to build computer-generated influencers . Take Aitana López , an AI influencer with more than 243,000 followers on Instagram. She earns up to $11,000 a month, and gets paid $1,000 per post to advertise products from brands like lingerie retailer Victoria\\'s Secret and haircare line Olaplex despite not being a human, according to the Financial Times . Or Lil Miquela, one of the first virtual influencers to hit the market, who has struck deals worth well over six figures with high-end brands, per the FT. She has worked with Prada and Calvin Klein, as well as tech companies like Samsung and YouTube. View this post on Instagram A post shared by Aitana Lopez✨|Virtual Soul (@fit_aitana) Or indeed Noonoouri , an AI influencer with over 400,000 followers on Instagram, which worked with Kim Kardashian\\'s cosmetic line KKW Beauty, according to the FT. Advertisement All these virtual influencers (and the companies behind them) may be taking paid gigs away from actual humans. And that\\'s leaving those people who make a living off promoting products to their social media followers feeling the heat. One main reason for brands to strike deals with virtual influencers: An attempt to cut costs and increase visibility. \"We were taken aback by the skyrocketing rates influencers charge nowadays,\" Diana Núñez, cofounder of The Clueless, the AI modeling agency behind López, told the FT. The steep rates for human influencers, she said, is what inspired her company to create its own influencer. View this post on Instagram A post shared by Miquela (@lilmiquela) And it\\'s seemingly eyecatching, too. Instagram analysis of an ad featuring Kuki, an AI influencer who worked with H&M, found that it reached 11 times more people across the social platform compared to the reach of a traditional ad, the FT reported. That translates to a 91% decrease in cost per person remembering the advert. Advertisement In response to the trend, some (human) influencers have expressed concerns that their AI competitors will be mistaken for real people, given their uncanny resemblance. \"What freaks me out about these influencers is how hard it is to tell they\\'re fake,\" Danae Mercer, a creator with more than 2 million followers on Instagram, told the FT. And despite AI\\'s potential for cheaper marketing , the firms behind AI influencers also appear to be grappling with the ethics around their creations. \"We unintentionally created a monster. A beautiful one, though,\" Núñez at The Clueless told the FT. The cofounder of the AI modeling agency didn\\'t immediately respond to BI\\'s request for comment. Advertisement The potential tension between human and AI influencers is another example of the ongoing fear that AI will replace workers as the technology\\'s capabilities become more advanced. A Goldman Sachs study published earlier this year found that generative AI may come for more than 300 million white-collar jobs around the world. Workers have used AI tools like OpenAI\\'s ChatGPT to write code , create real estate listings, and generate marketing copy. But despite the fears around job replacement, influencers are, in fact, using the tech to help streamline their day-to-day content creation. In a May report, the Influencer Marketing Factory surveyed 660 US-based creators and found that 94.5% of them use AI to edit content and generate images.', 'pubDate': '2023-12-30 11:23:01', 'image_url': None, 'source_id': 'businessinsider_us', 'source_priority': 133, 'country': ['united states of america'], 'category': ['top'], 'language': 'english', 'ai_tag': 'ONLY AVAILABLE IN PROFESSIONAL AND CORPORATE PLAN', 'sentiment': 'ONLY AVAILABLE IN PROFESSIONAL AND CORPORATE PLAN', 'sentiment_stats': 'ONLY AVAILABLE IN PROFESSIONAL AND CORPORATE PLAN'}, {'article_id': 'b276285854f37f10e2f69026e08bec9d', 'title': 'Teen killed in shooting Friday night, Goldsboro police say', 'link': 'https://www.cbs17.com/news/local-news/wayne-county-news/teenager-killed-in-shooting-friday-night-goldsboro-police-say/', 'keywords': ['wayne county news', 'crime tracker', 'local news', 'news'], 'creator': ['Hannah Leyva'], 'video_url': None, 'description': 'The Goldsboro Police Department said officers responded to a ShotSpotter alert for multiple gunshots in the 900 block of Hugh Street at approximately 9:11 p.m.', 'content': 'GOLDSBORO, N.C. (WNCN) — A teenager was killed after a shooting in Goldsboro Friday night, according to police. The Goldsboro Police Department said officers responded to a ShotSpotter alert for multiple gunshots in the 900 block of Hugh Street at approximately 9:11 p.m. Once on scene, they found a 17-year-old male with multiple gunshot wounds. The juvenile was pronounced dead by responding emergency medical services. Goldsboro police said the investigation is ongoing and no further information will be released at this time. Anyone with information about this shooting or any other crime in Wayne County is asked to contact CrimeStoppers at (919) 735-2255 or submit a tip at . Tips can be left anonymously.', 'pubDate': '2023-12-30 11:22:10', 'image_url': 'https://www.cbs17.com/wp-content/uploads/sites/29/2022/05/GettyImages-1339397055-1.jpg?w=900', 'source_id': 'cbs17', 'source_priority': 12160, 'country': ['united states of america'], 'category': ['top'], 'language': 'english', 'ai_tag': 'ONLY AVAILABLE IN PROFESSIONAL AND CORPORATE PLAN', 'sentiment': 'ONLY AVAILABLE IN PROFESSIONAL AND CORPORATE PLAN', 'sentiment_stats': 'ONLY AVAILABLE IN PROFESSIONAL AND CORPORATE PLAN'}]\n"
     ]
    }
   ],
   "source": [
    "print(all_articles[:4])"
   ]
  },
  {
   "cell_type": "markdown",
   "metadata": {},
   "source": [
    "## Create dataframe"
   ]
  },
  {
   "cell_type": "code",
   "execution_count": 10,
   "metadata": {
    "ExecuteTime": {
     "end_time": "2023-12-31T14:26:54.338441700Z",
     "start_time": "2023-12-31T14:26:54.307955700Z"
    }
   },
   "outputs": [
    {
     "name": "stdout",
     "output_type": "stream",
     "text": [
      "60\n",
      "['article_id', 'title', 'link', 'keywords', 'creator', 'video_url', 'description', 'content', 'pubDate', 'image_url', 'source_id', 'source_priority', 'country', 'category', 'language', 'ai_tag', 'sentiment', 'sentiment_stats']\n"
     ]
    }
   ],
   "source": [
    "import pandas as pd\n",
    "news_df = pd.DataFrame(all_articles)\n",
    "print(len(news_df))\n",
    "print(list(news_df.columns))"
   ]
  },
  {
   "cell_type": "code",
   "execution_count": 11,
   "outputs": [
    {
     "name": "stdout",
     "output_type": "stream",
     "text": [
      "['article_id', 'title', 'link', 'description', 'content', 'pubDate', 'source_id', 'country', 'category', 'language']\n"
     ]
    }
   ],
   "source": [
    "columns_to_drop = ['keywords', 'creator', 'video_url', 'image_url', 'source_priority', 'ai_tag', 'sentiment', 'sentiment_stats']\n",
    "columns_to_keep = [f for f in list(news_df.columns) if f not in columns_to_drop]\n",
    "print(columns_to_keep)"
   ],
   "metadata": {
    "collapsed": false,
    "ExecuteTime": {
     "end_time": "2023-12-31T14:26:55.401835Z",
     "start_time": "2023-12-31T14:26:55.379685100Z"
    }
   }
  },
  {
   "cell_type": "code",
   "execution_count": 12,
   "outputs": [
    {
     "data": {
      "text/plain": "                         article_id  \\\n0  c0285a29e85cb5cc1b2e7834e66c23bf   \n1  c52b59ce885adcc27cb0492fdaa27be0   \n2  392a094ef21a0ded775c5730946ca111   \n3  1d786a2b49e98d4397406de7c9e75f24   \n4  55e408f00465eaf2f36e4aa3e062410c   \n\n                                               title  \\\n0  Bacon-Wrapped Corn On The Cob Is The Ultimate ...   \n1   Germany's Tiny But Powerful Tank: The Wiesel AWC   \n2              Good news you may have missed in 2023   \n3  Liverpool vs. Newcastle United live stream: Ho...   \n4  Tottenham vs. Bournemouth live stream: How to ...   \n\n                                                link  \\\n0  https://www.thedailymeal.com/1481043/bacon-wra...   \n1  https://www.slashgear.com/1479748/germanys-tin...   \n2  https://www.cbsnews.com/news/good-news-you-may...   \n3  https://www.cbssports.com/soccer/news/liverpoo...   \n4  https://www.cbssports.com/soccer/news/tottenha...   \n\n                                         description  \\\n0  Everyone knows that bacon makes everything bet...   \n1  While your immediate concept of a tank might b...   \n2  From technology and medicine to the environmen...   \n3       Liverpool are in the thick of the title race   \n4  Ange Postecoglou's Spurs look to bounce back p...   \n\n                                             content              pubDate  \\\n0  Bacon tastes so good that it makes almost any ...  2023-12-31 14:15:35   \n1  From the first tank offensive ever on Septembe...  2023-12-31 14:15:16   \n2  Let's tune in to \"Sunny Side Up News,\" with yo...  2023-12-31 14:13:41   \n3  After a strong start to the holiday season for...  2023-12-31 14:08:22   \n4  Tottenham Hotspur welcome Bournemouth in the P...  2023-12-31 14:08:06   \n\n           source_id                                            country  \\\n0       thedailymeal                         [united states of america]   \n1          slashgear  [united kingdom, united states of america, sin...   \n2  minnesotacbslocal                         [united states of america]   \n3          cbssports                         [united states of america]   \n4          cbssports                         [united states of america]   \n\n  category language  \n0    [top]  english  \n1    [top]  english  \n2    [top]  english  \n3    [top]  english  \n4    [top]  english  ",
      "text/html": "<div>\n<style scoped>\n    .dataframe tbody tr th:only-of-type {\n        vertical-align: middle;\n    }\n\n    .dataframe tbody tr th {\n        vertical-align: top;\n    }\n\n    .dataframe thead th {\n        text-align: right;\n    }\n</style>\n<table border=\"1\" class=\"dataframe\">\n  <thead>\n    <tr style=\"text-align: right;\">\n      <th></th>\n      <th>article_id</th>\n      <th>title</th>\n      <th>link</th>\n      <th>description</th>\n      <th>content</th>\n      <th>pubDate</th>\n      <th>source_id</th>\n      <th>country</th>\n      <th>category</th>\n      <th>language</th>\n    </tr>\n  </thead>\n  <tbody>\n    <tr>\n      <th>0</th>\n      <td>c0285a29e85cb5cc1b2e7834e66c23bf</td>\n      <td>Bacon-Wrapped Corn On The Cob Is The Ultimate ...</td>\n      <td>https://www.thedailymeal.com/1481043/bacon-wra...</td>\n      <td>Everyone knows that bacon makes everything bet...</td>\n      <td>Bacon tastes so good that it makes almost any ...</td>\n      <td>2023-12-31 14:15:35</td>\n      <td>thedailymeal</td>\n      <td>[united states of america]</td>\n      <td>[top]</td>\n      <td>english</td>\n    </tr>\n    <tr>\n      <th>1</th>\n      <td>c52b59ce885adcc27cb0492fdaa27be0</td>\n      <td>Germany's Tiny But Powerful Tank: The Wiesel AWC</td>\n      <td>https://www.slashgear.com/1479748/germanys-tin...</td>\n      <td>While your immediate concept of a tank might b...</td>\n      <td>From the first tank offensive ever on Septembe...</td>\n      <td>2023-12-31 14:15:16</td>\n      <td>slashgear</td>\n      <td>[united kingdom, united states of america, sin...</td>\n      <td>[top]</td>\n      <td>english</td>\n    </tr>\n    <tr>\n      <th>2</th>\n      <td>392a094ef21a0ded775c5730946ca111</td>\n      <td>Good news you may have missed in 2023</td>\n      <td>https://www.cbsnews.com/news/good-news-you-may...</td>\n      <td>From technology and medicine to the environmen...</td>\n      <td>Let's tune in to \"Sunny Side Up News,\" with yo...</td>\n      <td>2023-12-31 14:13:41</td>\n      <td>minnesotacbslocal</td>\n      <td>[united states of america]</td>\n      <td>[top]</td>\n      <td>english</td>\n    </tr>\n    <tr>\n      <th>3</th>\n      <td>1d786a2b49e98d4397406de7c9e75f24</td>\n      <td>Liverpool vs. Newcastle United live stream: Ho...</td>\n      <td>https://www.cbssports.com/soccer/news/liverpoo...</td>\n      <td>Liverpool are in the thick of the title race</td>\n      <td>After a strong start to the holiday season for...</td>\n      <td>2023-12-31 14:08:22</td>\n      <td>cbssports</td>\n      <td>[united states of america]</td>\n      <td>[top]</td>\n      <td>english</td>\n    </tr>\n    <tr>\n      <th>4</th>\n      <td>55e408f00465eaf2f36e4aa3e062410c</td>\n      <td>Tottenham vs. Bournemouth live stream: How to ...</td>\n      <td>https://www.cbssports.com/soccer/news/tottenha...</td>\n      <td>Ange Postecoglou's Spurs look to bounce back p...</td>\n      <td>Tottenham Hotspur welcome Bournemouth in the P...</td>\n      <td>2023-12-31 14:08:06</td>\n      <td>cbssports</td>\n      <td>[united states of america]</td>\n      <td>[top]</td>\n      <td>english</td>\n    </tr>\n  </tbody>\n</table>\n</div>"
     },
     "execution_count": 12,
     "metadata": {},
     "output_type": "execute_result"
    }
   ],
   "source": [
    "news_df = news_df[columns_to_keep]\n",
    "news_df.head()"
   ],
   "metadata": {
    "collapsed": false,
    "ExecuteTime": {
     "end_time": "2023-12-31T14:27:49.641559300Z",
     "start_time": "2023-12-31T14:27:49.609728100Z"
    }
   }
  },
  {
   "cell_type": "markdown",
   "metadata": {},
   "source": [
    "## Remove null values (to avoid errors with Hopsworks)"
   ]
  },
  {
   "cell_type": "code",
   "execution_count": 6,
   "metadata": {
    "ExecuteTime": {
     "end_time": "2023-12-30T11:32:55.803651200Z",
     "start_time": "2023-12-30T11:32:55.767545500Z"
    }
   },
   "outputs": [
    {
     "data": {
      "text/plain": "article_id          0\ntitle               0\nlink                0\nkeywords           21\ncreator            18\nvideo_url          60\ndescription        16\ncontent             0\npubDate             0\nimage_url          12\nsource_id           0\nsource_priority     0\ncountry             0\ncategory            0\nlanguage            0\nai_tag              0\nsentiment           0\nsentiment_stats     0\ndtype: int64"
     },
     "execution_count": 6,
     "metadata": {},
     "output_type": "execute_result"
    }
   ],
   "source": [
    "news_df.isna().sum()"
   ]
  },
  {
   "cell_type": "code",
   "execution_count": 7,
   "outputs": [
    {
     "name": "stdout",
     "output_type": "stream",
     "text": [
      "Index(['article_id', 'title', 'link', 'keywords', 'creator', 'video_url',\n",
      "       'description', 'content', 'pubDate', 'image_url', 'source_id',\n",
      "       'source_priority', 'country', 'category', 'language', 'ai_tag',\n",
      "       'sentiment', 'sentiment_stats'],\n",
      "      dtype='object')\n"
     ]
    }
   ],
   "source": [
    "print(news_df.columns)"
   ],
   "metadata": {
    "collapsed": false,
    "ExecuteTime": {
     "end_time": "2023-12-30T11:32:55.805652100Z",
     "start_time": "2023-12-30T11:32:55.783630Z"
    }
   }
  },
  {
   "cell_type": "code",
   "execution_count": 8,
   "metadata": {
    "ExecuteTime": {
     "end_time": "2023-12-30T11:32:55.817685900Z",
     "start_time": "2023-12-30T11:32:55.798651500Z"
    }
   },
   "outputs": [],
   "source": [
    "news_df = news_df.drop(['keywords', 'creator', 'video_url', 'image_url'], axis=1)"
   ]
  },
  {
   "cell_type": "code",
   "execution_count": 9,
   "metadata": {
    "ExecuteTime": {
     "end_time": "2023-12-30T11:32:55.855453600Z",
     "start_time": "2023-12-30T11:32:55.814162400Z"
    }
   },
   "outputs": [
    {
     "data": {
      "text/plain": "article_id          0\ntitle               0\nlink                0\ndescription        16\ncontent             0\npubDate             0\nsource_id           0\nsource_priority     0\ncountry             0\ncategory            0\nlanguage            0\nai_tag              0\nsentiment           0\nsentiment_stats     0\ndtype: int64"
     },
     "execution_count": 9,
     "metadata": {},
     "output_type": "execute_result"
    }
   ],
   "source": [
    "news_df.isna().sum()"
   ]
  },
  {
   "cell_type": "code",
   "execution_count": 10,
   "metadata": {
    "ExecuteTime": {
     "end_time": "2023-12-30T11:32:55.857584300Z",
     "start_time": "2023-12-30T11:32:55.830256400Z"
    }
   },
   "outputs": [
    {
     "name": "stdout",
     "output_type": "stream",
     "text": [
      "44\n"
     ]
    }
   ],
   "source": [
    "news_df = news_df.dropna()\n",
    "print(len(news_df))"
   ]
  },
  {
   "cell_type": "code",
   "execution_count": 11,
   "outputs": [],
   "source": [
    "news_df['pubDate'] = pd.to_datetime(news_df['pubDate']).dt.date\n",
    "news_df['pubDate'] = news_df['pubDate'].astype(\"string\")"
   ],
   "metadata": {
    "collapsed": false,
    "ExecuteTime": {
     "end_time": "2023-12-30T11:32:57.368059500Z",
     "start_time": "2023-12-30T11:32:57.345202600Z"
    }
   }
  },
  {
   "cell_type": "code",
   "execution_count": 12,
   "outputs": [
    {
     "data": {
      "text/plain": "str"
     },
     "execution_count": 12,
     "metadata": {},
     "output_type": "execute_result"
    }
   ],
   "source": [
    "type(news_df['pubDate'].iloc[0])"
   ],
   "metadata": {
    "collapsed": false,
    "ExecuteTime": {
     "end_time": "2023-12-30T11:32:58.141310800Z",
     "start_time": "2023-12-30T11:32:58.122712Z"
    }
   }
  },
  {
   "cell_type": "code",
   "execution_count": 13,
   "outputs": [
    {
     "name": "stdout",
     "output_type": "stream",
     "text": [
      "0               [top]\n",
      "1               [top]\n",
      "3               [top]\n",
      "5             [world]\n",
      "6               [top]\n",
      "7              [food]\n",
      "8               [top]\n",
      "9               [top]\n",
      "10       [technology]\n",
      "11    [entertainment]\n",
      "12              [top]\n",
      "13              [top]\n",
      "14              [top]\n",
      "15              [top]\n",
      "16              [top]\n",
      "17           [sports]\n",
      "18           [sports]\n",
      "20              [top]\n",
      "23              [top]\n",
      "29              [top]\n",
      "32         [politics]\n",
      "33              [top]\n",
      "34              [top]\n",
      "35    [entertainment]\n",
      "36              [top]\n",
      "37              [top]\n",
      "38              [top]\n",
      "43           [sports]\n",
      "44              [top]\n",
      "45           [sports]\n",
      "46              [top]\n",
      "47           [sports]\n",
      "48              [top]\n",
      "49    [entertainment]\n",
      "50              [top]\n",
      "51            [world]\n",
      "52              [top]\n",
      "53              [top]\n",
      "54              [top]\n",
      "55              [top]\n",
      "56              [top]\n",
      "57              [top]\n",
      "58              [top]\n",
      "59              [top]\n",
      "Name: category, dtype: object\n"
     ]
    }
   ],
   "source": [
    "print(news_df['category'])"
   ],
   "metadata": {
    "collapsed": false,
    "ExecuteTime": {
     "end_time": "2023-12-30T11:33:21.073486500Z",
     "start_time": "2023-12-30T11:33:21.045390Z"
    }
   }
  }
 ],
 "metadata": {
  "kernelspec": {
   "display_name": "id2223",
   "language": "python",
   "name": "python3"
  },
  "language_info": {
   "codemirror_mode": {
    "name": "ipython",
    "version": 3
   },
   "file_extension": ".py",
   "mimetype": "text/x-python",
   "name": "python",
   "nbconvert_exporter": "python",
   "pygments_lexer": "ipython3",
   "version": "3.8.18"
  }
 },
 "nbformat": 4,
 "nbformat_minor": 2
}
