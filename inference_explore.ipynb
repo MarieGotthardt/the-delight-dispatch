{
 "cells": [
  {
   "cell_type": "markdown",
   "metadata": {},
   "source": [
    "# Exploring inference methods to plan inference pipeline"
   ]
  },
  {
   "cell_type": "code",
   "execution_count": 25,
   "metadata": {
    "ExecuteTime": {
     "end_time": "2023-12-17T14:07:04.748783600Z",
     "start_time": "2023-12-17T14:07:04.640927600Z"
    }
   },
   "outputs": [],
   "source": [
    "import hopsworks\n",
    "from datetime import datetime\n",
    "import pandas as pd"
   ]
  },
  {
   "cell_type": "code",
   "execution_count": 26,
   "metadata": {
    "ExecuteTime": {
     "end_time": "2023-12-17T14:07:04.822744Z",
     "start_time": "2023-12-17T14:07:04.752685400Z"
    }
   },
   "outputs": [
    {
     "name": "stdout",
     "output_type": "stream",
     "text": [
      "<class 'str'>\n",
      "2023-12-17\n"
     ]
    }
   ],
   "source": [
    "# Today's date ----- is this needed/helpful anywhere?\n",
    "# today = pd.to_datetime('2023-12-13').date()\n",
    "today = datetime.now().strftime('%Y-%m-%d')\n",
    "#today = datetime.now().date()\n",
    "print(type(today))\n",
    "print(today)"
   ]
  },
  {
   "cell_type": "markdown",
   "metadata": {},
   "source": [
    "## Get stored news articles"
   ]
  },
  {
   "cell_type": "code",
   "execution_count": 27,
   "metadata": {
    "ExecuteTime": {
     "end_time": "2023-12-17T14:07:12.472900400Z",
     "start_time": "2023-12-17T14:07:04.827852300Z"
    }
   },
   "outputs": [
    {
     "name": "stdout",
     "output_type": "stream",
     "text": [
      "Connection closed.\n",
      "Connected. Call `.close()` to terminate connection gracefully.\n",
      "\n",
      "Logged in to project, explore it here https://c.app.hopsworks.ai:443/p/187540\n",
      "Connected. Call `.close()` to terminate connection gracefully.\n",
      "Finished: Reading data from Hopsworks, using Hive (2.15s) from Hopsworks, using Hive.   \n"
     ]
    },
    {
     "data": {
      "text/plain": "                         article_id  \\\n0  205ca5bd4914c3b038f85d3f784cea31   \n1  8e22d120e7216d8487bebb6ac47a9ac9   \n2  786d5b9ae44de25430c98ecc78c21cd7   \n3  1bf9c9f093d6882cc76ee1054e5d2473   \n4  4b3c4de1bbfcaf8279acc1d2bcc23fac   \n\n                                               title  \\\n0  Miss France winner says her short hair a victo...   \n1  Erik ten Hag addresses Bruno Fernandes replace...   \n2  Dana White Receives Applauds for Banning N3on ...   \n3  Nathan Lyon claims 500th Test wicket as Austra...   \n4  Prince George and Princess Charlotte’s ‘riotou...   \n\n                                                link  \\\n0          https://www.digitaljournal.com/?p=3699990   \n1  https://www.manchestereveningnews.co.uk/sport/...   \n2  https://thesportsrush.com/ufc-news-dana-white-...   \n3  https://www.theguardian.com/sport/2023/dec/17/...   \n4  https://www.goodto.com/entertainment/royal-new...   \n\n                                         description  \\\n0  The woman elected Miss France 2024 has framed ...   \n1  Man United head to Anfield this afternoon but ...   \n2  The UFC CEO Dana White’s long-running relation...   \n3  Spinner is third bowler to take 500 scalps in ...   \n4  Who wouldn't enjoy 'silly presents' and 'fancy...   \n\n                                             content     pubdate  \\\n0  The woman elected Miss France 2024 has framed ...  2023-12-17   \n1  Erik ten Hag has remained tight-lipped on how ...  2023-12-17   \n2  The UFC CEO Dana White’s long-running relation...  2023-12-17   \n3  Nathan Lyon has snared his 500th Test wicket a...  2023-12-17   \n4  Christmas is full of traditions for families a...  2023-12-17   \n\n               source_id                                            country  \\\n0         digitaljournal                                         [\"canada\"]   \n1  manchestereveningnews                                 [\"united kingdom\"]   \n2          thesportsrush  [\"united kingdom\",\"united states of america\",\"...   \n3            theguardian    [\"united kingdom\",\"singapore\",\"canada\",\"india\"]   \n4                 goodto                                 [\"united kingdom\"]   \n\n     category language  \n0     [\"top\"]  english  \n1  [\"sports\"]  english  \n2  [\"sports\"]  english  \n3  [\"sports\"]  english  \n4     [\"top\"]  english  ",
      "text/html": "<div>\n<style scoped>\n    .dataframe tbody tr th:only-of-type {\n        vertical-align: middle;\n    }\n\n    .dataframe tbody tr th {\n        vertical-align: top;\n    }\n\n    .dataframe thead th {\n        text-align: right;\n    }\n</style>\n<table border=\"1\" class=\"dataframe\">\n  <thead>\n    <tr style=\"text-align: right;\">\n      <th></th>\n      <th>article_id</th>\n      <th>title</th>\n      <th>link</th>\n      <th>description</th>\n      <th>content</th>\n      <th>pubdate</th>\n      <th>source_id</th>\n      <th>country</th>\n      <th>category</th>\n      <th>language</th>\n    </tr>\n  </thead>\n  <tbody>\n    <tr>\n      <th>0</th>\n      <td>205ca5bd4914c3b038f85d3f784cea31</td>\n      <td>Miss France winner says her short hair a victo...</td>\n      <td>https://www.digitaljournal.com/?p=3699990</td>\n      <td>The woman elected Miss France 2024 has framed ...</td>\n      <td>The woman elected Miss France 2024 has framed ...</td>\n      <td>2023-12-17</td>\n      <td>digitaljournal</td>\n      <td>[\"canada\"]</td>\n      <td>[\"top\"]</td>\n      <td>english</td>\n    </tr>\n    <tr>\n      <th>1</th>\n      <td>8e22d120e7216d8487bebb6ac47a9ac9</td>\n      <td>Erik ten Hag addresses Bruno Fernandes replace...</td>\n      <td>https://www.manchestereveningnews.co.uk/sport/...</td>\n      <td>Man United head to Anfield this afternoon but ...</td>\n      <td>Erik ten Hag has remained tight-lipped on how ...</td>\n      <td>2023-12-17</td>\n      <td>manchestereveningnews</td>\n      <td>[\"united kingdom\"]</td>\n      <td>[\"sports\"]</td>\n      <td>english</td>\n    </tr>\n    <tr>\n      <th>2</th>\n      <td>786d5b9ae44de25430c98ecc78c21cd7</td>\n      <td>Dana White Receives Applauds for Banning N3on ...</td>\n      <td>https://thesportsrush.com/ufc-news-dana-white-...</td>\n      <td>The UFC CEO Dana White’s long-running relation...</td>\n      <td>The UFC CEO Dana White’s long-running relation...</td>\n      <td>2023-12-17</td>\n      <td>thesportsrush</td>\n      <td>[\"united kingdom\",\"united states of america\",\"...</td>\n      <td>[\"sports\"]</td>\n      <td>english</td>\n    </tr>\n    <tr>\n      <th>3</th>\n      <td>1bf9c9f093d6882cc76ee1054e5d2473</td>\n      <td>Nathan Lyon claims 500th Test wicket as Austra...</td>\n      <td>https://www.theguardian.com/sport/2023/dec/17/...</td>\n      <td>Spinner is third bowler to take 500 scalps in ...</td>\n      <td>Nathan Lyon has snared his 500th Test wicket a...</td>\n      <td>2023-12-17</td>\n      <td>theguardian</td>\n      <td>[\"united kingdom\",\"singapore\",\"canada\",\"india\"]</td>\n      <td>[\"sports\"]</td>\n      <td>english</td>\n    </tr>\n    <tr>\n      <th>4</th>\n      <td>4b3c4de1bbfcaf8279acc1d2bcc23fac</td>\n      <td>Prince George and Princess Charlotte’s ‘riotou...</td>\n      <td>https://www.goodto.com/entertainment/royal-new...</td>\n      <td>Who wouldn't enjoy 'silly presents' and 'fancy...</td>\n      <td>Christmas is full of traditions for families a...</td>\n      <td>2023-12-17</td>\n      <td>goodto</td>\n      <td>[\"united kingdom\"]</td>\n      <td>[\"top\"]</td>\n      <td>english</td>\n    </tr>\n  </tbody>\n</table>\n</div>"
     },
     "execution_count": 27,
     "metadata": {},
     "output_type": "execute_result"
    }
   ],
   "source": [
    "project = hopsworks.login()\n",
    "fs = project.get_feature_store()\n",
    "\n",
    "news_fg = fs.get_feature_group(name=\"news_articles\", version=5)\n",
    "news_df = news_fg.read()\n",
    "news_df.head()"
   ]
  },
  {
   "cell_type": "code",
   "execution_count": 28,
   "metadata": {
    "ExecuteTime": {
     "end_time": "2023-12-17T14:07:12.495740400Z",
     "start_time": "2023-12-17T14:07:12.460903100Z"
    }
   },
   "outputs": [
    {
     "name": "stdout",
     "output_type": "stream",
     "text": [
      "Number of articles: 45\n"
     ]
    }
   ],
   "source": [
    "print(\"Number of articles:\", len(news_df))"
   ]
  },
  {
   "cell_type": "code",
   "execution_count": 29,
   "outputs": [
    {
     "data": {
      "text/plain": "dtype('O')"
     },
     "execution_count": 29,
     "metadata": {},
     "output_type": "execute_result"
    }
   ],
   "source": [
    "news_df['pubdate'].dtype"
   ],
   "metadata": {
    "collapsed": false,
    "ExecuteTime": {
     "end_time": "2023-12-17T14:07:12.570297600Z",
     "start_time": "2023-12-17T14:07:12.475901200Z"
    }
   }
  },
  {
   "cell_type": "markdown",
   "metadata": {},
   "source": [
    "\n",
    "## Only keep today's articles"
   ]
  },
  {
   "cell_type": "code",
   "execution_count": 30,
   "metadata": {
    "ExecuteTime": {
     "end_time": "2023-12-17T14:07:12.600223400Z",
     "start_time": "2023-12-17T14:07:12.490229800Z"
    }
   },
   "outputs": [
    {
     "name": "stdout",
     "output_type": "stream",
     "text": [
      "Number of articles: 45\n"
     ]
    }
   ],
   "source": [
    "news_df = news_df[news_df['pubdate'] == today]\n",
    "print(\"Number of articles:\", len(news_df))"
   ]
  },
  {
   "cell_type": "markdown",
   "metadata": {},
   "source": [
    "## Add sentiments for articles"
   ]
  },
  {
   "cell_type": "code",
   "execution_count": 31,
   "metadata": {
    "ExecuteTime": {
     "end_time": "2023-12-17T14:07:13.535041300Z",
     "start_time": "2023-12-17T14:07:12.505746600Z"
    }
   },
   "outputs": [
    {
     "name": "stderr",
     "output_type": "stream",
     "text": [
      "No model was supplied, defaulted to distilbert-base-uncased-finetuned-sst-2-english and revision af0f99b (https://huggingface.co/distilbert-base-uncased-finetuned-sst-2-english).\n",
      "Using a pipeline without specifying a model name and revision in production is not recommended.\n"
     ]
    }
   ],
   "source": [
    "from transformers import pipeline\n",
    "sentiment_pipeline = pipeline(\"sentiment-analysis\")"
   ]
  },
  {
   "cell_type": "code",
   "execution_count": 32,
   "metadata": {
    "ExecuteTime": {
     "end_time": "2023-12-17T14:07:13.549753300Z",
     "start_time": "2023-12-17T14:07:13.538040900Z"
    }
   },
   "outputs": [],
   "source": [
    "def format_sentiment(sentiment):\n",
    "    if sentiment['label'] == 'NEGATIVE':\n",
    "        return sentiment['score'] * -1\n",
    "    else:\n",
    "        return sentiment['score']\n",
    "\n",
    "def get_sentiment_value(news_object, sentiment_pipeline):\n",
    "    return format_sentiment(sentiment_pipeline(news_object['title'])[0])"
   ]
  },
  {
   "cell_type": "code",
   "execution_count": 33,
   "metadata": {
    "ExecuteTime": {
     "end_time": "2023-12-17T14:07:14.650115300Z",
     "start_time": "2023-12-17T14:07:13.549753300Z"
    }
   },
   "outputs": [],
   "source": [
    "news_df['sentiment'] = news_df.apply(get_sentiment_value, sentiment_pipeline=sentiment_pipeline, axis=1)"
   ]
  },
  {
   "cell_type": "code",
   "execution_count": 34,
   "outputs": [
    {
     "data": {
      "text/plain": "0     0.998375\n1    -0.639338\n2    -0.630210\n3     0.996409\n4     0.999715\n5     0.997273\n6    -0.904386\n7     0.997980\n8     0.651037\n9     0.985335\n10   -0.932873\n11   -0.904386\n12   -0.966647\n13    0.999764\n14   -0.991861\n15    0.954942\n16   -0.993441\n17    0.985232\n18   -0.977052\n19   -0.981800\n20   -0.999704\n21    0.996932\n22   -0.989260\n23    0.998353\n24   -0.999704\n25   -0.992547\n26    0.999773\n27   -0.986446\n28   -0.990693\n29    0.999021\n30    0.961233\n31   -0.997775\n32    0.975764\n33    0.980984\n34   -0.997574\n35    0.997870\n36    0.999442\n37    0.996006\n38    0.954942\n39   -0.998881\n40    0.999544\n41   -0.997574\n42    0.996006\n43    0.999218\n44    0.996006\nName: sentiment, dtype: float64"
     },
     "execution_count": 34,
     "metadata": {},
     "output_type": "execute_result"
    }
   ],
   "source": [
    "news_df['sentiment'] "
   ],
   "metadata": {
    "collapsed": false,
    "ExecuteTime": {
     "end_time": "2023-12-17T14:07:14.665117800Z",
     "start_time": "2023-12-17T14:07:14.650115300Z"
    }
   }
  },
  {
   "cell_type": "code",
   "execution_count": 35,
   "metadata": {
    "ExecuteTime": {
     "end_time": "2023-12-17T14:07:14.706650300Z",
     "start_time": "2023-12-17T14:07:14.678116300Z"
    }
   },
   "outputs": [
    {
     "name": "stdout",
     "output_type": "stream",
     "text": [
      "<class 'pandas.core.frame.DataFrame'>\n",
      "RangeIndex: 45 entries, 0 to 44\n",
      "Data columns (total 11 columns):\n",
      " #   Column       Non-Null Count  Dtype  \n",
      "---  ------       --------------  -----  \n",
      " 0   article_id   45 non-null     object \n",
      " 1   title        45 non-null     object \n",
      " 2   link         45 non-null     object \n",
      " 3   description  45 non-null     object \n",
      " 4   content      45 non-null     object \n",
      " 5   pubdate      45 non-null     object \n",
      " 6   source_id    45 non-null     object \n",
      " 7   country      45 non-null     object \n",
      " 8   category     45 non-null     object \n",
      " 9   language     45 non-null     object \n",
      " 10  sentiment    45 non-null     float64\n",
      "dtypes: float64(1), object(10)\n",
      "memory usage: 4.0+ KB\n"
     ]
    }
   ],
   "source": [
    "news_df.info()"
   ]
  },
  {
   "cell_type": "markdown",
   "metadata": {},
   "source": [
    "## Calculate today's average sentiment"
   ]
  },
  {
   "cell_type": "code",
   "execution_count": 36,
   "metadata": {
    "ExecuteTime": {
     "end_time": "2023-12-17T14:07:14.760646300Z",
     "start_time": "2023-12-17T14:07:14.699661500Z"
    }
   },
   "outputs": [
    {
     "data": {
      "text/plain": "0.12322235239876642"
     },
     "execution_count": 36,
     "metadata": {},
     "output_type": "execute_result"
    }
   ],
   "source": [
    "avg_sentiment = news_df['sentiment'].mean()\n",
    "avg_sentiment"
   ]
  },
  {
   "cell_type": "markdown",
   "metadata": {},
   "source": [
    "## Find today's most positive article"
   ]
  },
  {
   "cell_type": "code",
   "execution_count": 37,
   "metadata": {
    "ExecuteTime": {
     "end_time": "2023-12-17T14:07:14.760646300Z",
     "start_time": "2023-12-17T14:07:14.714647Z"
    }
   },
   "outputs": [],
   "source": [
    "most_positive = news_df.loc[news_df['sentiment'].idxmax()]"
   ]
  },
  {
   "cell_type": "code",
   "execution_count": 38,
   "outputs": [
    {
     "name": "stdout",
     "output_type": "stream",
     "text": [
      "<class 'pandas.core.frame.DataFrame'>\n",
      "Index: 1 entries, 26 to 26\n",
      "Data columns (total 11 columns):\n",
      " #   Column       Non-Null Count  Dtype \n",
      "---  ------       --------------  ----- \n",
      " 0   article_id   1 non-null      object\n",
      " 1   title        1 non-null      object\n",
      " 2   link         1 non-null      object\n",
      " 3   description  1 non-null      object\n",
      " 4   content      1 non-null      object\n",
      " 5   pubdate      1 non-null      object\n",
      " 6   source_id    1 non-null      object\n",
      " 7   country      1 non-null      object\n",
      " 8   category     1 non-null      object\n",
      " 9   language     1 non-null      object\n",
      " 10  sentiment    1 non-null      object\n",
      "dtypes: object(11)\n",
      "memory usage: 96.0+ bytes\n"
     ]
    }
   ],
   "source": [
    "most_positive = pd.DataFrame(most_positive).T\n",
    "most_positive.info()"
   ],
   "metadata": {
    "collapsed": false,
    "ExecuteTime": {
     "end_time": "2023-12-17T14:07:14.761645200Z",
     "start_time": "2023-12-17T14:07:14.729645400Z"
    }
   }
  },
  {
   "cell_type": "code",
   "execution_count": 39,
   "metadata": {
    "ExecuteTime": {
     "end_time": "2023-12-17T14:07:14.795855700Z",
     "start_time": "2023-12-17T14:07:14.745645300Z"
    }
   },
   "outputs": [
    {
     "data": {
      "text/plain": "26    2023-12-17\nName: pubdate, dtype: object"
     },
     "execution_count": 39,
     "metadata": {},
     "output_type": "execute_result"
    }
   ],
   "source": [
    "most_positive.pubdate"
   ]
  },
  {
   "cell_type": "code",
   "execution_count": 40,
   "outputs": [
    {
     "data": {
      "text/plain": "\"'Wonderful' - Danny Murphy wowed by one Everton player on MOTD after win v Burnley\""
     },
     "execution_count": 40,
     "metadata": {},
     "output_type": "execute_result"
    }
   ],
   "source": [
    "most_positive.iloc[0]['title']"
   ],
   "metadata": {
    "collapsed": false,
    "ExecuteTime": {
     "end_time": "2023-12-17T14:07:29.962498300Z",
     "start_time": "2023-12-17T14:07:29.928997400Z"
    }
   }
  }
 ],
 "metadata": {
  "kernelspec": {
   "display_name": "id2223",
   "language": "python",
   "name": "python3"
  },
  "language_info": {
   "codemirror_mode": {
    "name": "ipython",
    "version": 3
   },
   "file_extension": ".py",
   "mimetype": "text/x-python",
   "name": "python",
   "nbconvert_exporter": "python",
   "pygments_lexer": "ipython3",
   "version": "3.8.18"
  }
 },
 "nbformat": 4,
 "nbformat_minor": 2
}
