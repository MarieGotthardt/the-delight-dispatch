{
 "cells": [
  {
   "cell_type": "markdown",
   "metadata": {},
   "source": [
    "# Exploring inference methods to plan inference pipeline"
   ]
  },
  {
   "cell_type": "code",
   "execution_count": 1,
   "metadata": {
    "ExecuteTime": {
     "end_time": "2023-12-17T10:01:25.210021100Z",
     "start_time": "2023-12-17T10:01:12.330654800Z"
    }
   },
   "outputs": [],
   "source": [
    "import hopsworks\n",
    "from datetime import datetime\n",
    "import pandas as pd"
   ]
  },
  {
   "cell_type": "code",
   "execution_count": 11,
   "metadata": {
    "ExecuteTime": {
     "end_time": "2023-12-17T10:02:56.687164900Z",
     "start_time": "2023-12-17T10:02:56.629777800Z"
    }
   },
   "outputs": [
    {
     "name": "stdout",
     "output_type": "stream",
     "text": [
      "<class 'str'>\n",
      "2023-12-17\n"
     ]
    }
   ],
   "source": [
    "# Today's date ----- is this needed/helpful anywhere?\n",
    "# today = pd.to_datetime('2023-12-13').date()\n",
    "today = datetime.now().strftime('%Y-%m-%d')\n",
    "#today = datetime.now().date()\n",
    "print(type(today))\n",
    "print(today)"
   ]
  },
  {
   "cell_type": "markdown",
   "metadata": {},
   "source": [
    "## Get stored news articles"
   ]
  },
  {
   "cell_type": "code",
   "execution_count": 12,
   "metadata": {
    "ExecuteTime": {
     "end_time": "2023-12-17T10:03:11.801693Z",
     "start_time": "2023-12-17T10:03:04.682728Z"
    }
   },
   "outputs": [
    {
     "name": "stdout",
     "output_type": "stream",
     "text": [
      "Connection closed.\n",
      "Connected. Call `.close()` to terminate connection gracefully.\n",
      "\n",
      "Logged in to project, explore it here https://c.app.hopsworks.ai:443/p/187540\n",
      "Connected. Call `.close()` to terminate connection gracefully.\n",
      "Finished: Reading data from Hopsworks, using Hive (2.43s) from Hopsworks, using Hive.   \n"
     ]
    },
    {
     "data": {
      "text/plain": "                         article_id  \\\n0  5f2249b77fe0b8d3d0486f9338b75166   \n1  28b92e828426e80c4c30e70e6f30fbd0   \n2  e7412a114c364d3245584c54350a7f53   \n3  bb80a67b9ffd50c19c72790b247bec97   \n4  0e901c91ad12d3256272438a8a089a6b   \n\n                                               title  \\\n0                Best SAD therapy lamps in 2023 (UK)   \n1  Opinion: Naturopathic doctors ready to relieve...   \n2  New Lenovo ThinkPad X1 Carbon hints at new 202...   \n3  Dancing On Ice's Amber Davies links arms with ...   \n4  Auckland A-League team: Big names on shortlist...   \n\n                                                link  \\\n0  https://news.knowledia.com/US/en/articles/best...   \n1  https://www.richmond-news.com/opinion/opinion-...   \n2  https://news.knowledia.com/US/en/articles/new-...   \n3  https://www.dailymail.co.uk/tvshowbiz/article-...   \n4  https://www.nzherald.co.nz/sport/auckland-a-le...   \n\n                                         description  \\\n0                     Beat the blues. - mashable.com   \n1  The time has come for naturopathic medicine to...   \n2  The AI hype isn't dying down any time soon. - ...   \n3  Amber Davies looks to be making incredible pro...   \n4  A wide pool of names on a whiteboard has been ...   \n\n                                             content     pubdate  \\\n0  The worst part of the winter isn't the rain, s...  2023-12-16   \n1  With 30 years practice experience in Prince Ge...  2023-12-16   \n2  I've seen AI injected in countless gadgets thi...  2023-12-16   \n3  Dancing On Ice's Amber Davies links arms with ...  2023-12-16   \n4  The new Auckland A-League men’s team will appo...  2023-12-16   \n\n       source_id                       country           category language  \n0      knowledia  [\"united states of america\"]            [\"top\"]  english  \n1  richmond-news                    [\"canada\"]            [\"top\"]  english  \n2      knowledia  [\"united states of america\"]            [\"top\"]  english  \n3    dailymailuk            [\"united kingdom\"]  [\"entertainment\"]  english  \n4       nzherald               [\"new zealand\"]         [\"sports\"]  english  ",
      "text/html": "<div>\n<style scoped>\n    .dataframe tbody tr th:only-of-type {\n        vertical-align: middle;\n    }\n\n    .dataframe tbody tr th {\n        vertical-align: top;\n    }\n\n    .dataframe thead th {\n        text-align: right;\n    }\n</style>\n<table border=\"1\" class=\"dataframe\">\n  <thead>\n    <tr style=\"text-align: right;\">\n      <th></th>\n      <th>article_id</th>\n      <th>title</th>\n      <th>link</th>\n      <th>description</th>\n      <th>content</th>\n      <th>pubdate</th>\n      <th>source_id</th>\n      <th>country</th>\n      <th>category</th>\n      <th>language</th>\n    </tr>\n  </thead>\n  <tbody>\n    <tr>\n      <th>0</th>\n      <td>5f2249b77fe0b8d3d0486f9338b75166</td>\n      <td>Best SAD therapy lamps in 2023 (UK)</td>\n      <td>https://news.knowledia.com/US/en/articles/best...</td>\n      <td>Beat the blues. - mashable.com</td>\n      <td>The worst part of the winter isn't the rain, s...</td>\n      <td>2023-12-16</td>\n      <td>knowledia</td>\n      <td>[\"united states of america\"]</td>\n      <td>[\"top\"]</td>\n      <td>english</td>\n    </tr>\n    <tr>\n      <th>1</th>\n      <td>28b92e828426e80c4c30e70e6f30fbd0</td>\n      <td>Opinion: Naturopathic doctors ready to relieve...</td>\n      <td>https://www.richmond-news.com/opinion/opinion-...</td>\n      <td>The time has come for naturopathic medicine to...</td>\n      <td>With 30 years practice experience in Prince Ge...</td>\n      <td>2023-12-16</td>\n      <td>richmond-news</td>\n      <td>[\"canada\"]</td>\n      <td>[\"top\"]</td>\n      <td>english</td>\n    </tr>\n    <tr>\n      <th>2</th>\n      <td>e7412a114c364d3245584c54350a7f53</td>\n      <td>New Lenovo ThinkPad X1 Carbon hints at new 202...</td>\n      <td>https://news.knowledia.com/US/en/articles/new-...</td>\n      <td>The AI hype isn't dying down any time soon. - ...</td>\n      <td>I've seen AI injected in countless gadgets thi...</td>\n      <td>2023-12-16</td>\n      <td>knowledia</td>\n      <td>[\"united states of america\"]</td>\n      <td>[\"top\"]</td>\n      <td>english</td>\n    </tr>\n    <tr>\n      <th>3</th>\n      <td>bb80a67b9ffd50c19c72790b247bec97</td>\n      <td>Dancing On Ice's Amber Davies links arms with ...</td>\n      <td>https://www.dailymail.co.uk/tvshowbiz/article-...</td>\n      <td>Amber Davies looks to be making incredible pro...</td>\n      <td>Dancing On Ice's Amber Davies links arms with ...</td>\n      <td>2023-12-16</td>\n      <td>dailymailuk</td>\n      <td>[\"united kingdom\"]</td>\n      <td>[\"entertainment\"]</td>\n      <td>english</td>\n    </tr>\n    <tr>\n      <th>4</th>\n      <td>0e901c91ad12d3256272438a8a089a6b</td>\n      <td>Auckland A-League team: Big names on shortlist...</td>\n      <td>https://www.nzherald.co.nz/sport/auckland-a-le...</td>\n      <td>A wide pool of names on a whiteboard has been ...</td>\n      <td>The new Auckland A-League men’s team will appo...</td>\n      <td>2023-12-16</td>\n      <td>nzherald</td>\n      <td>[\"new zealand\"]</td>\n      <td>[\"sports\"]</td>\n      <td>english</td>\n    </tr>\n  </tbody>\n</table>\n</div>"
     },
     "execution_count": 12,
     "metadata": {},
     "output_type": "execute_result"
    }
   ],
   "source": [
    "project = hopsworks.login()\n",
    "fs = project.get_feature_store()\n",
    "\n",
    "news_fg = fs.get_feature_group(name=\"news_articles\", version=5)\n",
    "news_df = news_fg.read()\n",
    "news_df.head()"
   ]
  },
  {
   "cell_type": "code",
   "execution_count": 13,
   "metadata": {
    "ExecuteTime": {
     "end_time": "2023-12-17T10:03:15.461872500Z",
     "start_time": "2023-12-17T10:03:15.420331900Z"
    }
   },
   "outputs": [
    {
     "name": "stdout",
     "output_type": "stream",
     "text": [
      "Number of articles: 96\n"
     ]
    }
   ],
   "source": [
    "print(\"Number of articles:\", len(news_df))"
   ]
  },
  {
   "cell_type": "code",
   "execution_count": 14,
   "outputs": [
    {
     "data": {
      "text/plain": "dtype('O')"
     },
     "execution_count": 14,
     "metadata": {},
     "output_type": "execute_result"
    }
   ],
   "source": [
    "news_df['pubdate'].dtype"
   ],
   "metadata": {
    "collapsed": false,
    "ExecuteTime": {
     "end_time": "2023-12-17T10:03:16.101900400Z",
     "start_time": "2023-12-17T10:03:16.009826500Z"
    }
   }
  },
  {
   "cell_type": "markdown",
   "metadata": {},
   "source": [
    "\n",
    "## Only keep today's articles"
   ]
  },
  {
   "cell_type": "code",
   "execution_count": 15,
   "metadata": {
    "ExecuteTime": {
     "end_time": "2023-12-17T10:03:17.916436Z",
     "start_time": "2023-12-17T10:03:17.821760100Z"
    }
   },
   "outputs": [
    {
     "name": "stdout",
     "output_type": "stream",
     "text": [
      "Number of articles: 47\n"
     ]
    }
   ],
   "source": [
    "news_df = news_df[news_df['pubdate'] == today]\n",
    "print(\"Number of articles:\", len(news_df))"
   ]
  },
  {
   "cell_type": "markdown",
   "metadata": {},
   "source": [
    "## Add sentiments for articles"
   ]
  },
  {
   "cell_type": "code",
   "execution_count": 16,
   "metadata": {
    "ExecuteTime": {
     "end_time": "2023-12-17T10:03:24.382118Z",
     "start_time": "2023-12-17T10:03:23.368952700Z"
    }
   },
   "outputs": [
    {
     "name": "stderr",
     "output_type": "stream",
     "text": [
      "No model was supplied, defaulted to distilbert-base-uncased-finetuned-sst-2-english and revision af0f99b (https://huggingface.co/distilbert-base-uncased-finetuned-sst-2-english).\n",
      "Using a pipeline without specifying a model name and revision in production is not recommended.\n"
     ]
    }
   ],
   "source": [
    "from transformers import pipeline\n",
    "sentiment_pipeline = pipeline(\"sentiment-analysis\")"
   ]
  },
  {
   "cell_type": "code",
   "execution_count": 17,
   "metadata": {
    "ExecuteTime": {
     "end_time": "2023-12-17T10:03:24.979411900Z",
     "start_time": "2023-12-17T10:03:24.930244Z"
    }
   },
   "outputs": [],
   "source": [
    "def format_sentiment(sentiment):\n",
    "    if sentiment['label'] == 'NEGATIVE':\n",
    "        return sentiment['score'] * -1\n",
    "    else:\n",
    "        return sentiment['score']\n",
    "\n",
    "def get_sentiment_value(news_object, sentiment_pipeline):\n",
    "    return format_sentiment(sentiment_pipeline(news_object['title'])[0])"
   ]
  },
  {
   "cell_type": "code",
   "execution_count": 18,
   "metadata": {
    "ExecuteTime": {
     "end_time": "2023-12-17T10:03:28.894109400Z",
     "start_time": "2023-12-17T10:03:25.659935800Z"
    }
   },
   "outputs": [],
   "source": [
    "news_df['sentiment'] = news_df.apply(get_sentiment_value, sentiment_pipeline=sentiment_pipeline, axis=1)"
   ]
  },
  {
   "cell_type": "code",
   "execution_count": 19,
   "outputs": [
    {
     "data": {
      "text/plain": "49    0.998790\n50   -0.998881\n51    0.991419\n52   -0.996459\n53    0.968694\n54   -0.770034\n55    0.819063\n56    0.999378\n57    0.994062\n58    0.999213\n59   -0.875670\n60   -0.977877\n61    0.963353\n62    0.994062\n63    0.690386\n64    0.505701\n65   -0.770034\n66    0.998790\n67    0.998790\n68   -0.986446\n69    0.999442\n70    0.999021\n71    0.919545\n72    0.998790\n73    0.998790\n74    0.996372\n75    0.975991\n76   -0.770034\n77    0.533480\n78    0.994062\n79    0.998790\n80    0.999631\n81   -0.994759\n82   -0.998991\n83    0.996932\n84    0.998857\n85   -0.828643\n86    0.996372\n87    0.533480\n88    0.978127\n89   -0.991861\n90    0.999378\n91    0.533480\n92   -0.663785\n93    0.755097\n94    0.998790\n95    0.998857\nName: sentiment, dtype: float64"
     },
     "execution_count": 19,
     "metadata": {},
     "output_type": "execute_result"
    }
   ],
   "source": [
    "news_df['sentiment'] "
   ],
   "metadata": {
    "collapsed": false,
    "ExecuteTime": {
     "end_time": "2023-12-17T10:03:29.586881100Z",
     "start_time": "2023-12-17T10:03:29.561823700Z"
    }
   }
  },
  {
   "cell_type": "code",
   "execution_count": 20,
   "metadata": {
    "ExecuteTime": {
     "end_time": "2023-12-17T10:03:30.302008400Z",
     "start_time": "2023-12-17T10:03:30.190333500Z"
    }
   },
   "outputs": [
    {
     "name": "stdout",
     "output_type": "stream",
     "text": [
      "<class 'pandas.core.frame.DataFrame'>\n",
      "Index: 47 entries, 49 to 95\n",
      "Data columns (total 11 columns):\n",
      " #   Column       Non-Null Count  Dtype  \n",
      "---  ------       --------------  -----  \n",
      " 0   article_id   47 non-null     object \n",
      " 1   title        47 non-null     object \n",
      " 2   link         47 non-null     object \n",
      " 3   description  47 non-null     object \n",
      " 4   content      47 non-null     object \n",
      " 5   pubdate      47 non-null     object \n",
      " 6   source_id    47 non-null     object \n",
      " 7   country      47 non-null     object \n",
      " 8   category     47 non-null     object \n",
      " 9   language     47 non-null     object \n",
      " 10  sentiment    47 non-null     float64\n",
      "dtypes: float64(1), object(10)\n",
      "memory usage: 4.4+ KB\n"
     ]
    }
   ],
   "source": [
    "news_df.info()"
   ]
  },
  {
   "cell_type": "markdown",
   "metadata": {},
   "source": [
    "## Calculate today's average sentiment"
   ]
  },
  {
   "cell_type": "code",
   "execution_count": 21,
   "metadata": {
    "ExecuteTime": {
     "end_time": "2023-12-17T10:03:32.061357300Z",
     "start_time": "2023-12-17T10:03:32.015494400Z"
    }
   },
   "outputs": [
    {
     "data": {
      "text/plain": "0.41492582635676606"
     },
     "execution_count": 21,
     "metadata": {},
     "output_type": "execute_result"
    }
   ],
   "source": [
    "avg_sentiment = news_df['sentiment'].mean()\n",
    "avg_sentiment"
   ]
  },
  {
   "cell_type": "markdown",
   "metadata": {},
   "source": [
    "## Find today's most positive article"
   ]
  },
  {
   "cell_type": "code",
   "execution_count": 22,
   "metadata": {
    "ExecuteTime": {
     "end_time": "2023-12-17T10:03:33.668417500Z",
     "start_time": "2023-12-17T10:03:33.639309700Z"
    }
   },
   "outputs": [],
   "source": [
    "most_positive = news_df.loc[news_df['sentiment'].idxmax()]"
   ]
  },
  {
   "cell_type": "code",
   "execution_count": 23,
   "outputs": [
    {
     "name": "stdout",
     "output_type": "stream",
     "text": [
      "<class 'pandas.core.frame.DataFrame'>\n",
      "Index: 1 entries, 80 to 80\n",
      "Data columns (total 11 columns):\n",
      " #   Column       Non-Null Count  Dtype \n",
      "---  ------       --------------  ----- \n",
      " 0   article_id   1 non-null      object\n",
      " 1   title        1 non-null      object\n",
      " 2   link         1 non-null      object\n",
      " 3   description  1 non-null      object\n",
      " 4   content      1 non-null      object\n",
      " 5   pubdate      1 non-null      object\n",
      " 6   source_id    1 non-null      object\n",
      " 7   country      1 non-null      object\n",
      " 8   category     1 non-null      object\n",
      " 9   language     1 non-null      object\n",
      " 10  sentiment    1 non-null      object\n",
      "dtypes: object(11)\n",
      "memory usage: 96.0+ bytes\n"
     ]
    }
   ],
   "source": [
    "most_positive = pd.DataFrame(most_positive).T\n",
    "most_positive.info()"
   ],
   "metadata": {
    "collapsed": false,
    "ExecuteTime": {
     "end_time": "2023-12-17T10:03:34.333691800Z",
     "start_time": "2023-12-17T10:03:34.289495100Z"
    }
   }
  },
  {
   "cell_type": "code",
   "execution_count": 24,
   "metadata": {
    "ExecuteTime": {
     "end_time": "2023-12-17T10:03:35.850449700Z",
     "start_time": "2023-12-17T10:03:35.818313Z"
    }
   },
   "outputs": [
    {
     "data": {
      "text/plain": "80    2023-12-17\nName: pubdate, dtype: object"
     },
     "execution_count": 24,
     "metadata": {},
     "output_type": "execute_result"
    }
   ],
   "source": [
    "most_positive.pubdate"
   ]
  },
  {
   "cell_type": "code",
   "execution_count": null,
   "outputs": [],
   "source": [],
   "metadata": {
    "collapsed": false
   }
  }
 ],
 "metadata": {
  "kernelspec": {
   "display_name": "id2223",
   "language": "python",
   "name": "python3"
  },
  "language_info": {
   "codemirror_mode": {
    "name": "ipython",
    "version": 3
   },
   "file_extension": ".py",
   "mimetype": "text/x-python",
   "name": "python",
   "nbconvert_exporter": "python",
   "pygments_lexer": "ipython3",
   "version": "3.8.18"
  }
 },
 "nbformat": 4,
 "nbformat_minor": 2
}
