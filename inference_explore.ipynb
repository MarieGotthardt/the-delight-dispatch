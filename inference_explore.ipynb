{
 "cells": [
  {
   "cell_type": "markdown",
   "metadata": {},
   "source": [
    "# Exploring inference methods to plan inference pipeline"
   ]
  },
  {
   "cell_type": "code",
   "execution_count": 1,
   "metadata": {},
   "outputs": [
    {
     "name": "stderr",
     "output_type": "stream",
     "text": [
      "/Users/sambook/miniconda3/envs/id2223/lib/python3.8/site-packages/tqdm/auto.py:21: TqdmWarning: IProgress not found. Please update jupyter and ipywidgets. See https://ipywidgets.readthedocs.io/en/stable/user_install.html\n",
      "  from .autonotebook import tqdm as notebook_tqdm\n"
     ]
    }
   ],
   "source": [
    "import hopsworks\n",
    "from datetime import datetime\n",
    "import pandas as pd"
   ]
  },
  {
   "cell_type": "code",
   "execution_count": 52,
   "metadata": {},
   "outputs": [
    {
     "name": "stdout",
     "output_type": "stream",
     "text": [
      "<class 'datetime.date'>\n",
      "2023-12-14\n"
     ]
    }
   ],
   "source": [
    "# Today's date ----- is this needed/helpful anywhere?\n",
    "# today = pd.to_datetime('2023-12-13').date()\n",
    "# today = datetime.now().strftime('%Y-%m-%d')\n",
    "today = datetime.now().date()\n",
    "print(type(today))\n",
    "print(today)"
   ]
  },
  {
   "cell_type": "markdown",
   "metadata": {},
   "source": [
    "## Get stored news articles"
   ]
  },
  {
   "cell_type": "code",
   "execution_count": 49,
   "metadata": {},
   "outputs": [
    {
     "name": "stdout",
     "output_type": "stream",
     "text": [
      "Connection closed.\n",
      "Connected. Call `.close()` to terminate connection gracefully.\n",
      "\n",
      "Logged in to project, explore it here https://c.app.hopsworks.ai:443/p/185495\n",
      "Connected. Call `.close()` to terminate connection gracefully.\n",
      "Finished: Reading data from Hopsworks, using ArrowFlight (1.47s) \n"
     ]
    },
    {
     "data": {
      "text/html": [
       "<div>\n",
       "<style scoped>\n",
       "    .dataframe tbody tr th:only-of-type {\n",
       "        vertical-align: middle;\n",
       "    }\n",
       "\n",
       "    .dataframe tbody tr th {\n",
       "        vertical-align: top;\n",
       "    }\n",
       "\n",
       "    .dataframe thead th {\n",
       "        text-align: right;\n",
       "    }\n",
       "</style>\n",
       "<table border=\"1\" class=\"dataframe\">\n",
       "  <thead>\n",
       "    <tr style=\"text-align: right;\">\n",
       "      <th></th>\n",
       "      <th>article_id</th>\n",
       "      <th>title</th>\n",
       "      <th>link</th>\n",
       "      <th>description</th>\n",
       "      <th>content</th>\n",
       "      <th>pubdate</th>\n",
       "      <th>source_id</th>\n",
       "      <th>source_priority</th>\n",
       "      <th>country</th>\n",
       "      <th>category</th>\n",
       "      <th>language</th>\n",
       "    </tr>\n",
       "  </thead>\n",
       "  <tbody>\n",
       "    <tr>\n",
       "      <th>0</th>\n",
       "      <td>614fe26d75302581ff4c727dc2b62069</td>\n",
       "      <td>AP Breakthrough Entertainer: Charles Melton th...</td>\n",
       "      <td>https://www.winnipegfreepress.com/arts-and-lif...</td>\n",
       "      <td>LOS ANGELES (AP) — Fame didn’t come overnight ...</td>\n",
       "      <td>LOS ANGELES (AP) — Fame didn’t come overnight ...</td>\n",
       "      <td>2023-12-13 14:13:27</td>\n",
       "      <td>winnipegfreepress</td>\n",
       "      <td>101538</td>\n",
       "      <td>[canada]</td>\n",
       "      <td>[entertainment]</td>\n",
       "      <td>english</td>\n",
       "    </tr>\n",
       "    <tr>\n",
       "      <th>1</th>\n",
       "      <td>c1a910e57b0588354924cb70c07ff63e</td>\n",
       "      <td>Badly burned but free, Israa Jaabis on her rel...</td>\n",
       "      <td>https://www.aljazeera.com/features/2023/12/13/...</td>\n",
       "      <td>Israa Jaabis was accused of attempted murder w...</td>\n",
       "      <td>Israa Jaabis was accused of attempted murder w...</td>\n",
       "      <td>2023-12-13 14:13:33</td>\n",
       "      <td>aljazeera_us</td>\n",
       "      <td>543</td>\n",
       "      <td>[united states of america]</td>\n",
       "      <td>[top]</td>\n",
       "      <td>english</td>\n",
       "    </tr>\n",
       "    <tr>\n",
       "      <th>2</th>\n",
       "      <td>975eafb21824c494b7b5492c189c397b</td>\n",
       "      <td>Dick Van Dyke Through the Years: Photos of the...</td>\n",
       "      <td>https://hollywoodlife.com/pics/dick-van-dyke-p...</td>\n",
       "      <td>Dick Van Dyke is one of Hollywood's most celeb...</td>\n",
       "      <td>Dick Van Dyke is one of Hollywood’s most celeb...</td>\n",
       "      <td>2023-12-13 14:15:32</td>\n",
       "      <td>hollywoodlife</td>\n",
       "      <td>977</td>\n",
       "      <td>[united states of america]</td>\n",
       "      <td>[world]</td>\n",
       "      <td>english</td>\n",
       "    </tr>\n",
       "    <tr>\n",
       "      <th>3</th>\n",
       "      <td>1cf88a47fd65f8a9b8be421268af0f4a</td>\n",
       "      <td>Virginia has tentative deal to move Washington...</td>\n",
       "      <td>https://lethbridgenewsnow.com/2023/12/13/virgi...</td>\n",
       "      <td>RICHMOND, Va. (AP) - Virginia Gov. Glenn Young...</td>\n",
       "      <td>RICHMOND, Va. (AP) — Virginia Gov. Glenn Young...</td>\n",
       "      <td>2023-12-13 14:07:18</td>\n",
       "      <td>lethbridgenewsnow</td>\n",
       "      <td>149548</td>\n",
       "      <td>[canada]</td>\n",
       "      <td>[top]</td>\n",
       "      <td>english</td>\n",
       "    </tr>\n",
       "    <tr>\n",
       "      <th>4</th>\n",
       "      <td>2170ae2a33b0d42be841601f63d95311</td>\n",
       "      <td>Sydney Sweeney admits to being a 'workaholic'</td>\n",
       "      <td>https://www.perthnow.com.au/entertainment/cele...</td>\n",
       "      <td>Sydney Sweeney has revealed that she's current...</td>\n",
       "      <td>Sydney Sweeney is a \"workaholic\". The 26-year-...</td>\n",
       "      <td>2023-12-13 14:00:10</td>\n",
       "      <td>perthnow</td>\n",
       "      <td>49457</td>\n",
       "      <td>[australia]</td>\n",
       "      <td>[entertainment]</td>\n",
       "      <td>english</td>\n",
       "    </tr>\n",
       "  </tbody>\n",
       "</table>\n",
       "</div>"
      ],
      "text/plain": [
       "                         article_id  \\\n",
       "0  614fe26d75302581ff4c727dc2b62069   \n",
       "1  c1a910e57b0588354924cb70c07ff63e   \n",
       "2  975eafb21824c494b7b5492c189c397b   \n",
       "3  1cf88a47fd65f8a9b8be421268af0f4a   \n",
       "4  2170ae2a33b0d42be841601f63d95311   \n",
       "\n",
       "                                               title  \\\n",
       "0  AP Breakthrough Entertainer: Charles Melton th...   \n",
       "1  Badly burned but free, Israa Jaabis on her rel...   \n",
       "2  Dick Van Dyke Through the Years: Photos of the...   \n",
       "3  Virginia has tentative deal to move Washington...   \n",
       "4      Sydney Sweeney admits to being a 'workaholic'   \n",
       "\n",
       "                                                link  \\\n",
       "0  https://www.winnipegfreepress.com/arts-and-lif...   \n",
       "1  https://www.aljazeera.com/features/2023/12/13/...   \n",
       "2  https://hollywoodlife.com/pics/dick-van-dyke-p...   \n",
       "3  https://lethbridgenewsnow.com/2023/12/13/virgi...   \n",
       "4  https://www.perthnow.com.au/entertainment/cele...   \n",
       "\n",
       "                                         description  \\\n",
       "0  LOS ANGELES (AP) — Fame didn’t come overnight ...   \n",
       "1  Israa Jaabis was accused of attempted murder w...   \n",
       "2  Dick Van Dyke is one of Hollywood's most celeb...   \n",
       "3  RICHMOND, Va. (AP) - Virginia Gov. Glenn Young...   \n",
       "4  Sydney Sweeney has revealed that she's current...   \n",
       "\n",
       "                                             content              pubdate  \\\n",
       "0  LOS ANGELES (AP) — Fame didn’t come overnight ...  2023-12-13 14:13:27   \n",
       "1  Israa Jaabis was accused of attempted murder w...  2023-12-13 14:13:33   \n",
       "2  Dick Van Dyke is one of Hollywood’s most celeb...  2023-12-13 14:15:32   \n",
       "3  RICHMOND, Va. (AP) — Virginia Gov. Glenn Young...  2023-12-13 14:07:18   \n",
       "4  Sydney Sweeney is a \"workaholic\". The 26-year-...  2023-12-13 14:00:10   \n",
       "\n",
       "           source_id  source_priority                     country  \\\n",
       "0  winnipegfreepress           101538                    [canada]   \n",
       "1       aljazeera_us              543  [united states of america]   \n",
       "2      hollywoodlife              977  [united states of america]   \n",
       "3  lethbridgenewsnow           149548                    [canada]   \n",
       "4           perthnow            49457                 [australia]   \n",
       "\n",
       "          category language  \n",
       "0  [entertainment]  english  \n",
       "1            [top]  english  \n",
       "2          [world]  english  \n",
       "3            [top]  english  \n",
       "4  [entertainment]  english  "
      ]
     },
     "execution_count": 49,
     "metadata": {},
     "output_type": "execute_result"
    }
   ],
   "source": [
    "project = hopsworks.login()\n",
    "fs = project.get_feature_store()\n",
    "\n",
    "news_fg = fs.get_feature_group(name=\"news_articles\", version=1)\n",
    "news_df = news_fg.read()\n",
    "news_df.head()"
   ]
  },
  {
   "cell_type": "code",
   "execution_count": 50,
   "metadata": {},
   "outputs": [
    {
     "name": "stdout",
     "output_type": "stream",
     "text": [
      "97\n"
     ]
    }
   ],
   "source": [
    "print(\"Number of articles:\", len(news_df))"
   ]
  },
  {
   "cell_type": "markdown",
   "metadata": {},
   "source": [
    "## Only keep today's articles"
   ]
  },
  {
   "cell_type": "code",
   "execution_count": 60,
   "metadata": {},
   "outputs": [
    {
     "name": "stdout",
     "output_type": "stream",
     "text": [
      "53\n"
     ]
    }
   ],
   "source": [
    "news_df = news_df[pd.to_datetime(news_df['pubdate']).dt.date == today]\n",
    "print(\"Number of articles:\", len(news_df))"
   ]
  },
  {
   "cell_type": "markdown",
   "metadata": {},
   "source": [
    "## Add sentiments for articles"
   ]
  },
  {
   "cell_type": "code",
   "execution_count": 9,
   "metadata": {},
   "outputs": [
    {
     "name": "stderr",
     "output_type": "stream",
     "text": [
      "No model was supplied, defaulted to distilbert-base-uncased-finetuned-sst-2-english and revision af0f99b (https://huggingface.co/distilbert-base-uncased-finetuned-sst-2-english).\n",
      "Using a pipeline without specifying a model name and revision in production is not recommended.\n"
     ]
    }
   ],
   "source": [
    "from transformers import pipeline\n",
    "sentiment_pipeline = pipeline(\"sentiment-analysis\")"
   ]
  },
  {
   "cell_type": "code",
   "execution_count": 30,
   "metadata": {},
   "outputs": [],
   "source": [
    "def format_sentiment(sentiment):\n",
    "    if sentiment['label'] == 'NEGATIVE':\n",
    "        return sentiment['score'] * -1\n",
    "    else:\n",
    "        return sentiment['score']\n",
    "\n",
    "def get_sentiment_value(news_object):\n",
    "    return format_sentiment(sentiment_pipeline(news_object['title'])[0])"
   ]
  },
  {
   "cell_type": "code",
   "execution_count": 63,
   "metadata": {},
   "outputs": [],
   "source": [
    "news_df['sentiment'] = news_df.apply(get_sentiment_value, axis=1)"
   ]
  },
  {
   "cell_type": "code",
   "execution_count": 64,
   "metadata": {},
   "outputs": [
    {
     "data": {
      "text/html": [
       "<div>\n",
       "<style scoped>\n",
       "    .dataframe tbody tr th:only-of-type {\n",
       "        vertical-align: middle;\n",
       "    }\n",
       "\n",
       "    .dataframe tbody tr th {\n",
       "        vertical-align: top;\n",
       "    }\n",
       "\n",
       "    .dataframe thead th {\n",
       "        text-align: right;\n",
       "    }\n",
       "</style>\n",
       "<table border=\"1\" class=\"dataframe\">\n",
       "  <thead>\n",
       "    <tr style=\"text-align: right;\">\n",
       "      <th></th>\n",
       "      <th>article_id</th>\n",
       "      <th>title</th>\n",
       "      <th>link</th>\n",
       "      <th>description</th>\n",
       "      <th>content</th>\n",
       "      <th>pubdate</th>\n",
       "      <th>source_id</th>\n",
       "      <th>source_priority</th>\n",
       "      <th>country</th>\n",
       "      <th>category</th>\n",
       "      <th>language</th>\n",
       "      <th>sentiment</th>\n",
       "    </tr>\n",
       "  </thead>\n",
       "  <tbody>\n",
       "    <tr>\n",
       "      <th>44</th>\n",
       "      <td>90d87ff7ce4d2d71e7f9c945b8e6de58</td>\n",
       "      <td>All Blacks star Ardie Savea takes top honour a...</td>\n",
       "      <td>https://www.nzherald.co.nz/sport/all-blacks-st...</td>\n",
       "      <td>Ardie Savea has been named the Kelvin R. Trema...</td>\n",
       "      <td>A month after claiming World Rugby’s biggest p...</td>\n",
       "      <td>2023-12-14 08:15:00</td>\n",
       "      <td>nzherald</td>\n",
       "      <td>7971</td>\n",
       "      <td>[new zealand]</td>\n",
       "      <td>[sports]</td>\n",
       "      <td>english</td>\n",
       "      <td>0.999462</td>\n",
       "    </tr>\n",
       "    <tr>\n",
       "      <th>45</th>\n",
       "      <td>ee3c812c214b1870b858747efe58989d</td>\n",
       "      <td>Hong Kong places arrest bounties on activists ...</td>\n",
       "      <td>https://torontosun.com/news/world/hong-kong-pl...</td>\n",
       "      <td>HONG KONG — Hong Kong police accused five acti...</td>\n",
       "      <td>HONG KONG — Hong Kong police accused five acti...</td>\n",
       "      <td>2023-12-14 14:44:35</td>\n",
       "      <td>torontosun</td>\n",
       "      <td>12198</td>\n",
       "      <td>[canada]</td>\n",
       "      <td>[top]</td>\n",
       "      <td>english</td>\n",
       "      <td>-0.907741</td>\n",
       "    </tr>\n",
       "    <tr>\n",
       "      <th>46</th>\n",
       "      <td>bd19a1a7f26da17f94928139f5e46a9f</td>\n",
       "      <td>OpTic Texas vs Seattle Surge Betting Tips and ...</td>\n",
       "      <td>https://www.esportsbets.com/news/optic-texas-v...</td>\n",
       "      <td>OpTic Texas has stiff competition in Seattle S...</td>\n",
       "      <td>OpTic Texas has stiff competition in Seattle S...</td>\n",
       "      <td>2023-12-14 14:53:00</td>\n",
       "      <td>esportsbets</td>\n",
       "      <td>53698</td>\n",
       "      <td>[united states of america]</td>\n",
       "      <td>[top]</td>\n",
       "      <td>english</td>\n",
       "      <td>-0.600554</td>\n",
       "    </tr>\n",
       "    <tr>\n",
       "      <th>47</th>\n",
       "      <td>6bb160787348f9acb2a4eac669e5a380</td>\n",
       "      <td>KCC now offering local climate action grants w...</td>\n",
       "      <td>https://kildare-nationalist.ie/2023/12/14/kcc-...</td>\n",
       "      <td>Kildare County Council is now inviting not-for...</td>\n",
       "      <td>Kildare County Council is now inviting not-for...</td>\n",
       "      <td>2023-12-14 14:39:02</td>\n",
       "      <td>kildare-nationalist</td>\n",
       "      <td>2606560</td>\n",
       "      <td>[ireland]</td>\n",
       "      <td>[sports]</td>\n",
       "      <td>english</td>\n",
       "      <td>0.901746</td>\n",
       "    </tr>\n",
       "    <tr>\n",
       "      <th>48</th>\n",
       "      <td>d4d4aa89e6c601c4c4e60c7774e1c6e9</td>\n",
       "      <td>NFL odds, lines, picks, spreads, bets, predict...</td>\n",
       "      <td>https://www.cbssports.com/nfl/news/nfl-odds-li...</td>\n",
       "      <td>SportsLine's advanced model has locked in its ...</td>\n",
       "      <td>Dak Prescott and the Dallas Cowboys have won t...</td>\n",
       "      <td>2023-12-14 14:57:39</td>\n",
       "      <td>cbssports</td>\n",
       "      <td>72</td>\n",
       "      <td>[united states of america]</td>\n",
       "      <td>[top]</td>\n",
       "      <td>english</td>\n",
       "      <td>0.665539</td>\n",
       "    </tr>\n",
       "  </tbody>\n",
       "</table>\n",
       "</div>"
      ],
      "text/plain": [
       "                          article_id  \\\n",
       "44  90d87ff7ce4d2d71e7f9c945b8e6de58   \n",
       "45  ee3c812c214b1870b858747efe58989d   \n",
       "46  bd19a1a7f26da17f94928139f5e46a9f   \n",
       "47  6bb160787348f9acb2a4eac669e5a380   \n",
       "48  d4d4aa89e6c601c4c4e60c7774e1c6e9   \n",
       "\n",
       "                                                title  \\\n",
       "44  All Blacks star Ardie Savea takes top honour a...   \n",
       "45  Hong Kong places arrest bounties on activists ...   \n",
       "46  OpTic Texas vs Seattle Surge Betting Tips and ...   \n",
       "47  KCC now offering local climate action grants w...   \n",
       "48  NFL odds, lines, picks, spreads, bets, predict...   \n",
       "\n",
       "                                                 link  \\\n",
       "44  https://www.nzherald.co.nz/sport/all-blacks-st...   \n",
       "45  https://torontosun.com/news/world/hong-kong-pl...   \n",
       "46  https://www.esportsbets.com/news/optic-texas-v...   \n",
       "47  https://kildare-nationalist.ie/2023/12/14/kcc-...   \n",
       "48  https://www.cbssports.com/nfl/news/nfl-odds-li...   \n",
       "\n",
       "                                          description  \\\n",
       "44  Ardie Savea has been named the Kelvin R. Trema...   \n",
       "45  HONG KONG — Hong Kong police accused five acti...   \n",
       "46  OpTic Texas has stiff competition in Seattle S...   \n",
       "47  Kildare County Council is now inviting not-for...   \n",
       "48  SportsLine's advanced model has locked in its ...   \n",
       "\n",
       "                                              content              pubdate  \\\n",
       "44  A month after claiming World Rugby’s biggest p...  2023-12-14 08:15:00   \n",
       "45  HONG KONG — Hong Kong police accused five acti...  2023-12-14 14:44:35   \n",
       "46  OpTic Texas has stiff competition in Seattle S...  2023-12-14 14:53:00   \n",
       "47  Kildare County Council is now inviting not-for...  2023-12-14 14:39:02   \n",
       "48  Dak Prescott and the Dallas Cowboys have won t...  2023-12-14 14:57:39   \n",
       "\n",
       "              source_id  source_priority                     country  \\\n",
       "44             nzherald             7971               [new zealand]   \n",
       "45           torontosun            12198                    [canada]   \n",
       "46          esportsbets            53698  [united states of america]   \n",
       "47  kildare-nationalist          2606560                   [ireland]   \n",
       "48            cbssports               72  [united states of america]   \n",
       "\n",
       "    category language  sentiment  \n",
       "44  [sports]  english   0.999462  \n",
       "45     [top]  english  -0.907741  \n",
       "46     [top]  english  -0.600554  \n",
       "47  [sports]  english   0.901746  \n",
       "48     [top]  english   0.665539  "
      ]
     },
     "execution_count": 64,
     "metadata": {},
     "output_type": "execute_result"
    }
   ],
   "source": [
    "news_df.head()"
   ]
  },
  {
   "cell_type": "markdown",
   "metadata": {},
   "source": [
    "## Calculate today's average sentiment"
   ]
  },
  {
   "cell_type": "code",
   "execution_count": 83,
   "metadata": {},
   "outputs": [
    {
     "data": {
      "text/plain": [
       "-0.16408252828526046"
      ]
     },
     "execution_count": 83,
     "metadata": {},
     "output_type": "execute_result"
    }
   ],
   "source": [
    "avg_sentiment = news_df['sentiment'].mean()\n",
    "avg_sentiment"
   ]
  },
  {
   "cell_type": "markdown",
   "metadata": {},
   "source": [
    "## Find today's most positive article"
   ]
  },
  {
   "cell_type": "code",
   "execution_count": 82,
   "metadata": {},
   "outputs": [
    {
     "data": {
      "text/plain": [
       "article_id                          6be831b2317bd0413ca1e1cf3387e2bd\n",
       "title              Secure Code Warrior’s Agile Learning Platform ...\n",
       "link               https://www.ibtimes.com.au/press-release/20231...\n",
       "description        Netskope partners with Secure Code Warrior to ...\n",
       "content            INTERNATIONAL BUSINESS TIMES au NEWSLETTER SIG...\n",
       "pubdate                                          2023-12-14 14:48:49\n",
       "source_id                                                    ibtimes\n",
       "source_priority                                               458722\n",
       "country                                                  [australia]\n",
       "category                                                [technology]\n",
       "language                                                     english\n",
       "sentiment                                                   0.999579\n",
       "Name: 64, dtype: object"
      ]
     },
     "execution_count": 82,
     "metadata": {},
     "output_type": "execute_result"
    }
   ],
   "source": [
    "most_positive = news_df.loc[news_df['sentiment'].idxmax()]\n",
    "most_positive"
   ]
  },
  {
   "cell_type": "code",
   "execution_count": null,
   "metadata": {},
   "outputs": [],
   "source": []
  }
 ],
 "metadata": {
  "kernelspec": {
   "display_name": "id2223",
   "language": "python",
   "name": "python3"
  },
  "language_info": {
   "codemirror_mode": {
    "name": "ipython",
    "version": 3
   },
   "file_extension": ".py",
   "mimetype": "text/x-python",
   "name": "python",
   "nbconvert_exporter": "python",
   "pygments_lexer": "ipython3",
   "version": "3.8.18"
  }
 },
 "nbformat": 4,
 "nbformat_minor": 2
}
