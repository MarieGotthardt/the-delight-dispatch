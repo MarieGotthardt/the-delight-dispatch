{
 "cells": [
  {
   "cell_type": "markdown",
   "metadata": {},
   "source": [
    "# Exploring inference methods to plan inference pipeline"
   ]
  },
  {
   "cell_type": "code",
   "execution_count": 10,
   "metadata": {
    "ExecuteTime": {
     "end_time": "2023-12-16T12:19:32.757343700Z",
     "start_time": "2023-12-16T12:19:32.717532200Z"
    }
   },
   "outputs": [],
   "source": [
    "import hopsworks\n",
    "from datetime import datetime\n",
    "import pandas as pd"
   ]
  },
  {
   "cell_type": "code",
   "execution_count": 15,
   "metadata": {
    "ExecuteTime": {
     "end_time": "2023-12-16T12:20:15.245057200Z",
     "start_time": "2023-12-16T12:20:15.208929200Z"
    }
   },
   "outputs": [
    {
     "name": "stdout",
     "output_type": "stream",
     "text": [
      "<class 'datetime.date'>\n",
      "2023-12-16\n"
     ]
    }
   ],
   "source": [
    "# Today's date ----- is this needed/helpful anywhere?\n",
    "# today = pd.to_datetime('2023-12-13').date()\n",
    "# today = datetime.now().strftime('%Y-%m-%d')\n",
    "today = datetime.now().date()\n",
    "print(type(today))\n",
    "print(today)"
   ]
  },
  {
   "cell_type": "markdown",
   "metadata": {},
   "source": [
    "## Get stored news articles"
   ]
  },
  {
   "cell_type": "code",
   "execution_count": 12,
   "metadata": {
    "ExecuteTime": {
     "end_time": "2023-12-16T12:19:38.297814600Z",
     "start_time": "2023-12-16T12:19:34.137136300Z"
    }
   },
   "outputs": [
    {
     "name": "stdout",
     "output_type": "stream",
     "text": [
      "Connection closed.\n",
      "Connected. Call `.close()` to terminate connection gracefully.\n",
      "\n",
      "Logged in to project, explore it here https://c.app.hopsworks.ai:443/p/187540\n",
      "Connected. Call `.close()` to terminate connection gracefully.\n",
      "Finished: Reading data from Hopsworks, using ArrowFlight (1.30s) \n"
     ]
    },
    {
     "data": {
      "text/plain": "                         article_id  \\\n0  7ec5d34440998da7790f6d2486f93060   \n1  e9e929aada59f9c32fb1d46ed7820379   \n2  040e7684bacf2f150b86e7a6352e1731   \n3  6e886c9f14ee7d3c29b25810dd7f4a20   \n4  0e901c91ad12d3256272438a8a089a6b   \n\n                                               title  \\\n0  Lyon in wait: Spinner left one short of 500 Te...   \n1  Voter apathy and concerns about violence mark ...   \n2  Lyon in wait: Spinner left one short of 500 Te...   \n3  Lyon in wait: Spinner left one short of 500 Te...   \n4  Auckland A-League team: Big names on shortlist...   \n\n                                                link  \\\n0  https://www.brisbanetimes.com.au/sport/cricket...   \n1  https://halifax.citynews.ca/2023/12/16/voter-a...   \n2  https://www.watoday.com.au/sport/cricket/lyon-...   \n3  https://www.theage.com.au/sport/cricket/lyon-i...   \n4  https://www.nzherald.co.nz/sport/auckland-a-le...   \n\n                                         description  \\\n0  The hosts are waiting on a fitness report for ...   \n1  BAGHDAD (AP) — Iraqis began voting for the fir...   \n2  The hosts are waiting on a fitness report for ...   \n3  The hosts are waiting on a fitness report for ...   \n4  A wide pool of names on a whiteboard has been ...   \n\n                                             content     pubdate  \\\n0  Marnus Labuschagne suffered a finger injury an...  2023-12-16   \n1  BAGHDAD (AP) — Iraqis began voting for the fir...  2023-12-16   \n2  Marnus Labuschagne suffered a finger injury an...  2023-12-16   \n3  Marnus Labuschagne suffered a finger injury an...  2023-12-16   \n4  The new Auckland A-League men’s team will appo...  2023-12-16   \n\n       source_id  source_priority        country  category language  \n0  brisbanetimes           189315    [australia]  [sports]  english  \n1   halifaxtoday         38482437       [canada]     [top]  english  \n2        watoday           347743    [australia]     [top]  english  \n3         theage            62533    [australia]  [sports]  english  \n4       nzherald             7971  [new zealand]  [sports]  english  ",
      "text/html": "<div>\n<style scoped>\n    .dataframe tbody tr th:only-of-type {\n        vertical-align: middle;\n    }\n\n    .dataframe tbody tr th {\n        vertical-align: top;\n    }\n\n    .dataframe thead th {\n        text-align: right;\n    }\n</style>\n<table border=\"1\" class=\"dataframe\">\n  <thead>\n    <tr style=\"text-align: right;\">\n      <th></th>\n      <th>article_id</th>\n      <th>title</th>\n      <th>link</th>\n      <th>description</th>\n      <th>content</th>\n      <th>pubdate</th>\n      <th>source_id</th>\n      <th>source_priority</th>\n      <th>country</th>\n      <th>category</th>\n      <th>language</th>\n    </tr>\n  </thead>\n  <tbody>\n    <tr>\n      <th>0</th>\n      <td>7ec5d34440998da7790f6d2486f93060</td>\n      <td>Lyon in wait: Spinner left one short of 500 Te...</td>\n      <td>https://www.brisbanetimes.com.au/sport/cricket...</td>\n      <td>The hosts are waiting on a fitness report for ...</td>\n      <td>Marnus Labuschagne suffered a finger injury an...</td>\n      <td>2023-12-16</td>\n      <td>brisbanetimes</td>\n      <td>189315</td>\n      <td>[australia]</td>\n      <td>[sports]</td>\n      <td>english</td>\n    </tr>\n    <tr>\n      <th>1</th>\n      <td>e9e929aada59f9c32fb1d46ed7820379</td>\n      <td>Voter apathy and concerns about violence mark ...</td>\n      <td>https://halifax.citynews.ca/2023/12/16/voter-a...</td>\n      <td>BAGHDAD (AP) — Iraqis began voting for the fir...</td>\n      <td>BAGHDAD (AP) — Iraqis began voting for the fir...</td>\n      <td>2023-12-16</td>\n      <td>halifaxtoday</td>\n      <td>38482437</td>\n      <td>[canada]</td>\n      <td>[top]</td>\n      <td>english</td>\n    </tr>\n    <tr>\n      <th>2</th>\n      <td>040e7684bacf2f150b86e7a6352e1731</td>\n      <td>Lyon in wait: Spinner left one short of 500 Te...</td>\n      <td>https://www.watoday.com.au/sport/cricket/lyon-...</td>\n      <td>The hosts are waiting on a fitness report for ...</td>\n      <td>Marnus Labuschagne suffered a finger injury an...</td>\n      <td>2023-12-16</td>\n      <td>watoday</td>\n      <td>347743</td>\n      <td>[australia]</td>\n      <td>[top]</td>\n      <td>english</td>\n    </tr>\n    <tr>\n      <th>3</th>\n      <td>6e886c9f14ee7d3c29b25810dd7f4a20</td>\n      <td>Lyon in wait: Spinner left one short of 500 Te...</td>\n      <td>https://www.theage.com.au/sport/cricket/lyon-i...</td>\n      <td>The hosts are waiting on a fitness report for ...</td>\n      <td>Marnus Labuschagne suffered a finger injury an...</td>\n      <td>2023-12-16</td>\n      <td>theage</td>\n      <td>62533</td>\n      <td>[australia]</td>\n      <td>[sports]</td>\n      <td>english</td>\n    </tr>\n    <tr>\n      <th>4</th>\n      <td>0e901c91ad12d3256272438a8a089a6b</td>\n      <td>Auckland A-League team: Big names on shortlist...</td>\n      <td>https://www.nzherald.co.nz/sport/auckland-a-le...</td>\n      <td>A wide pool of names on a whiteboard has been ...</td>\n      <td>The new Auckland A-League men’s team will appo...</td>\n      <td>2023-12-16</td>\n      <td>nzherald</td>\n      <td>7971</td>\n      <td>[new zealand]</td>\n      <td>[sports]</td>\n      <td>english</td>\n    </tr>\n  </tbody>\n</table>\n</div>"
     },
     "execution_count": 12,
     "metadata": {},
     "output_type": "execute_result"
    }
   ],
   "source": [
    "project = hopsworks.login()\n",
    "fs = project.get_feature_store()\n",
    "\n",
    "news_fg = fs.get_feature_group(name=\"news_articles\", version=4)\n",
    "news_df = news_fg.read()\n",
    "news_df.head()"
   ]
  },
  {
   "cell_type": "code",
   "execution_count": 13,
   "metadata": {
    "ExecuteTime": {
     "end_time": "2023-12-16T12:19:38.339664800Z",
     "start_time": "2023-12-16T12:19:38.295806500Z"
    }
   },
   "outputs": [
    {
     "name": "stdout",
     "output_type": "stream",
     "text": [
      "Number of articles: 49\n"
     ]
    }
   ],
   "source": [
    "print(\"Number of articles:\", len(news_df))"
   ]
  },
  {
   "cell_type": "code",
   "execution_count": 14,
   "outputs": [
    {
     "data": {
      "text/plain": "dtype('O')"
     },
     "execution_count": 14,
     "metadata": {},
     "output_type": "execute_result"
    }
   ],
   "source": [
    "news_df['pubdate'].dtype"
   ],
   "metadata": {
    "collapsed": false,
    "ExecuteTime": {
     "end_time": "2023-12-16T12:19:55.165804500Z",
     "start_time": "2023-12-16T12:19:55.103166100Z"
    }
   }
  },
  {
   "cell_type": "markdown",
   "metadata": {},
   "source": [
    "\n",
    "## Only keep today's articles"
   ]
  },
  {
   "cell_type": "code",
   "execution_count": 16,
   "metadata": {
    "ExecuteTime": {
     "end_time": "2023-12-16T12:20:21.884325900Z",
     "start_time": "2023-12-16T12:20:21.862155500Z"
    }
   },
   "outputs": [
    {
     "name": "stdout",
     "output_type": "stream",
     "text": [
      "Number of articles: 49\n"
     ]
    }
   ],
   "source": [
    "news_df = news_df[news_df['pubdate'] == today]\n",
    "print(\"Number of articles:\", len(news_df))"
   ]
  },
  {
   "cell_type": "markdown",
   "metadata": {},
   "source": [
    "## Add sentiments for articles"
   ]
  },
  {
   "cell_type": "code",
   "execution_count": 17,
   "metadata": {
    "ExecuteTime": {
     "end_time": "2023-12-16T12:21:28.382690100Z",
     "start_time": "2023-12-16T12:21:27.392633500Z"
    }
   },
   "outputs": [
    {
     "name": "stderr",
     "output_type": "stream",
     "text": [
      "No model was supplied, defaulted to distilbert-base-uncased-finetuned-sst-2-english and revision af0f99b (https://huggingface.co/distilbert-base-uncased-finetuned-sst-2-english).\n",
      "Using a pipeline without specifying a model name and revision in production is not recommended.\n"
     ]
    }
   ],
   "source": [
    "from transformers import pipeline\n",
    "sentiment_pipeline = pipeline(\"sentiment-analysis\")"
   ]
  },
  {
   "cell_type": "code",
   "execution_count": 18,
   "metadata": {
    "ExecuteTime": {
     "end_time": "2023-12-16T12:21:28.420381900Z",
     "start_time": "2023-12-16T12:21:28.382690100Z"
    }
   },
   "outputs": [],
   "source": [
    "def format_sentiment(sentiment):\n",
    "    if sentiment['label'] == 'NEGATIVE':\n",
    "        return sentiment['score'] * -1\n",
    "    else:\n",
    "        return sentiment['score']\n",
    "\n",
    "def get_sentiment_value(news_object, sentiment_pipeline):\n",
    "    return format_sentiment(sentiment_pipeline(news_object['title'])[0])"
   ]
  },
  {
   "cell_type": "code",
   "execution_count": 19,
   "metadata": {
    "ExecuteTime": {
     "end_time": "2023-12-16T12:21:31.960597400Z",
     "start_time": "2023-12-16T12:21:28.853204700Z"
    }
   },
   "outputs": [],
   "source": [
    "news_df['sentiment'] = news_df.apply(get_sentiment_value, sentiment_pipeline=sentiment_pipeline, axis=1)"
   ]
  },
  {
   "cell_type": "code",
   "execution_count": 20,
   "outputs": [
    {
     "data": {
      "text/plain": "0    -0.996212\n1    -0.918708\n2    -0.996212\n3    -0.996212\n4     0.956115\n5    -0.942974\n6    -0.974615\n7    -0.996346\n8     0.993459\n9    -0.982671\n10   -0.996360\n11   -0.997408\n12   -0.558961\n13   -0.966601\n14   -0.996212\n15   -0.999385\n16   -0.827272\n17   -0.976391\n18   -0.537694\n19   -0.996212\n20   -0.967247\n21   -0.897315\n22    0.942749\n23   -0.992619\n24   -0.995881\n25    0.961417\n26   -0.985819\n27    0.996294\n28   -0.996212\n29    0.998722\n30   -0.976391\n31    0.873144\n32   -0.996212\n33   -0.995884\n34    0.958880\n35    0.998954\n36   -0.918708\n37   -0.918708\n38   -0.988610\n39   -0.976391\n40    0.881980\n41    0.997205\n42    0.995221\n43   -0.953914\n44   -0.996850\n45    0.991797\n46    0.939304\n47   -0.999639\n48   -0.981042\nName: sentiment, dtype: float64"
     },
     "execution_count": 20,
     "metadata": {},
     "output_type": "execute_result"
    }
   ],
   "source": [
    "news_df['sentiment'] "
   ],
   "metadata": {
    "collapsed": false,
    "ExecuteTime": {
     "end_time": "2023-12-16T12:21:32.009271500Z",
     "start_time": "2023-12-16T12:21:31.963117700Z"
    }
   }
  },
  {
   "cell_type": "code",
   "execution_count": 42,
   "metadata": {
    "ExecuteTime": {
     "end_time": "2023-12-16T13:07:31.455480200Z",
     "start_time": "2023-12-16T13:07:31.381134900Z"
    }
   },
   "outputs": [
    {
     "name": "stdout",
     "output_type": "stream",
     "text": [
      "<class 'pandas.core.frame.DataFrame'>\n",
      "RangeIndex: 49 entries, 0 to 48\n",
      "Data columns (total 12 columns):\n",
      " #   Column           Non-Null Count  Dtype  \n",
      "---  ------           --------------  -----  \n",
      " 0   article_id       49 non-null     object \n",
      " 1   title            49 non-null     object \n",
      " 2   link             49 non-null     object \n",
      " 3   description      49 non-null     object \n",
      " 4   content          49 non-null     object \n",
      " 5   pubdate          49 non-null     object \n",
      " 6   source_id        49 non-null     object \n",
      " 7   source_priority  49 non-null     int64  \n",
      " 8   country          49 non-null     object \n",
      " 9   category         49 non-null     object \n",
      " 10  language         49 non-null     object \n",
      " 11  sentiment        49 non-null     float64\n",
      "dtypes: float64(1), int64(1), object(10)\n",
      "memory usage: 4.7+ KB\n"
     ]
    }
   ],
   "source": [
    "news_df.info()"
   ]
  },
  {
   "cell_type": "markdown",
   "metadata": {},
   "source": [
    "## Calculate today's average sentiment"
   ]
  },
  {
   "cell_type": "code",
   "execution_count": 23,
   "metadata": {
    "ExecuteTime": {
     "end_time": "2023-12-16T12:37:05.761590400Z",
     "start_time": "2023-12-16T12:37:05.735206Z"
    }
   },
   "outputs": [
    {
     "data": {
      "text/plain": "-0.40221734314548724"
     },
     "execution_count": 23,
     "metadata": {},
     "output_type": "execute_result"
    }
   ],
   "source": [
    "avg_sentiment = news_df['sentiment'].mean()\n",
    "avg_sentiment"
   ]
  },
  {
   "cell_type": "markdown",
   "metadata": {},
   "source": [
    "## Find today's most positive article"
   ]
  },
  {
   "cell_type": "code",
   "execution_count": 40,
   "metadata": {
    "ExecuteTime": {
     "end_time": "2023-12-16T13:07:10.707433100Z",
     "start_time": "2023-12-16T13:07:10.694892300Z"
    }
   },
   "outputs": [],
   "source": [
    "most_positive = news_df.loc[news_df['sentiment'].idxmax()]"
   ]
  },
  {
   "cell_type": "code",
   "execution_count": 41,
   "outputs": [
    {
     "name": "stdout",
     "output_type": "stream",
     "text": [
      "<class 'pandas.core.frame.DataFrame'>\n",
      "Index: 1 entries, 35 to 35\n",
      "Data columns (total 12 columns):\n",
      " #   Column           Non-Null Count  Dtype \n",
      "---  ------           --------------  ----- \n",
      " 0   article_id       1 non-null      object\n",
      " 1   title            1 non-null      object\n",
      " 2   link             1 non-null      object\n",
      " 3   description      1 non-null      object\n",
      " 4   content          1 non-null      object\n",
      " 5   pubdate          1 non-null      object\n",
      " 6   source_id        1 non-null      object\n",
      " 7   source_priority  1 non-null      object\n",
      " 8   country          1 non-null      object\n",
      " 9   category         1 non-null      object\n",
      " 10  language         1 non-null      object\n",
      " 11  sentiment        1 non-null      object\n",
      "dtypes: object(12)\n",
      "memory usage: 104.0+ bytes\n"
     ]
    }
   ],
   "source": [
    "most_positive = pd.DataFrame(most_positive).T\n",
    "most_positive.info()"
   ],
   "metadata": {
    "collapsed": false,
    "ExecuteTime": {
     "end_time": "2023-12-16T13:07:11.593888500Z",
     "start_time": "2023-12-16T13:07:11.556253400Z"
    }
   }
  },
  {
   "cell_type": "code",
   "execution_count": 58,
   "metadata": {
    "ExecuteTime": {
     "end_time": "2023-12-16T11:47:17.604489Z",
     "start_time": "2023-12-16T11:47:17.568670600Z"
    }
   },
   "outputs": [
    {
     "data": {
      "text/plain": "'2023-12-16'"
     },
     "execution_count": 58,
     "metadata": {},
     "output_type": "execute_result"
    }
   ],
   "source": [
    "most_positive.pubdate"
   ]
  }
 ],
 "metadata": {
  "kernelspec": {
   "display_name": "id2223",
   "language": "python",
   "name": "python3"
  },
  "language_info": {
   "codemirror_mode": {
    "name": "ipython",
    "version": 3
   },
   "file_extension": ".py",
   "mimetype": "text/x-python",
   "name": "python",
   "nbconvert_exporter": "python",
   "pygments_lexer": "ipython3",
   "version": "3.8.18"
  }
 },
 "nbformat": 4,
 "nbformat_minor": 2
}
