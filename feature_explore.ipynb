{
 "cells": [
  {
   "cell_type": "markdown",
   "metadata": {},
   "source": [
    "# Exploring news data to plan feature pipeline"
   ]
  },
  {
   "cell_type": "markdown",
   "metadata": {},
   "source": [
    "## Get API key"
   ]
  },
  {
   "cell_type": "code",
   "execution_count": 1,
   "metadata": {},
   "outputs": [],
   "source": [
    "# temporary key access method (add a API secret to repo)\n",
    "with open(\"./NEWS_DATA_KEY.txt\", \"r\") as file:\n",
    "    api_key = file.read()"
   ]
  },
  {
   "cell_type": "markdown",
   "metadata": {},
   "source": [
    "## Get articles"
   ]
  },
  {
   "cell_type": "code",
   "execution_count": 2,
   "metadata": {},
   "outputs": [],
   "source": [
    "from newsdataapi import NewsDataApiClient\n",
    "from datetime import datetime\n",
    "\n",
    "# Create a NewsData API client\n",
    "client = NewsDataApiClient(apikey=api_key)\n",
    "\n",
    "# Today's date in the required format\n",
    "today = datetime.now().strftime('%Y-%m-%d')\n",
    "\n",
    "# Collect articles from many countries in a list\n",
    "all_articles = []\n",
    "country_codes = ['us', 'ca', 'ie', 'gb', 'au', 'nz']\n",
    "\n",
    "for country_code in country_codes:\n",
    "    # Fetch the news\n",
    "    response = client.news_api(country=country_code)\n",
    "\n",
    "    # Process the response\n",
    "    if 'status' in response and response['status'] == 'success':\n",
    "        articles = response['results']\n",
    "        # Process the articles as needed\n",
    "        for article in articles:\n",
    "            all_articles.append(article)\n",
    "    else:\n",
    "        print(\"Failed to retrieve data:\", response.get('message', 'Unknown Error'))"
   ]
  },
  {
   "cell_type": "code",
   "execution_count": 5,
   "metadata": {},
   "outputs": [
    {
     "name": "stdout",
     "output_type": "stream",
     "text": [
      "{'article_id': 'db8df3ebaa48637892ea9fc72851ac79', 'title': 'Switzerland’s Greens fail in a long-shot bid to enter the national government', 'link': 'https://www.winnipegfreepress.com/world/2023/12/13/switzerlands-greens-fail-in-a-long-shot-bid-to-enter-the-national-government', 'keywords': ['World'], 'creator': ['The Associated Press'], 'video_url': None, 'description': 'BERLIN (AP) — Switzerland’s environmentalist Greens failed in a long-shot bid to enter the national government Wednesday as lawmakers elected a new center-left minister to the Alpine country’s executive Federal […]', 'content': \"BERLIN (AP) — Switzerland's environmentalist Greens failed in a long-shot bid to enter the national government Wednesday as lawmakers elected a new center-left minister to the Alpine country's executive Federal Council. Read this article for free: Already have an account? To continue reading, please subscribe: * BERLIN (AP) — Switzerland’s environmentalist Greens failed in a long-shot bid to enter the national government Wednesday as lawmakers elected a new center-left minister to the Alpine country’s executive Federal Council. Parliament met in Bern to elect the seven-member governing council following a September election that saw the country’s strongest political force, the nationalist Swiss People’s Party, rebound from losses four years earlier and two environmentally minded parties lose ground. Switzerland has an unusual, consensus-oriented political system. Four parties ranging from the center-left Social Democrats to the populist Swiss People’s Party are represented on the Federal Council. Swiss voters also have a direct say on policy issues in referendums several times every year. The Greens contended that the party had a claim to a seat on the council despite its slump in the election. They argued that the free-market Liberals were overrepresented with two ministers. Green lawmaker Gerhard Andrey challenged Foreign Minister Ignazio Cassis, a Liberal, but came nowhere near unseating him. The defeat followed an unsuccessful bid to eject Cassis after a strong election performance by the Greens in 2019. Political change tends to be gradual in Switzerland. It is very unusual for sitting ministers to be voted off the Federal Council; parties in the government tend to be wary of doing so because that could undermine support for their own candidates. All six ministers seeking another term were reelected. One seat had to be filled because Social Democrat Alain Berset — the head of the interior department, which oversees health, labor and social issues — is stepping down after 12 years, during which he oversaw Switzerland’s response to the COVID-19 pandemic. Beat Jans, a Social Democrat who currently heads the regional government in Basel, was elected as his successor. The members of the Federal Council now decided who will lead which government department for the next four years. Switzerland’s presidency rotates between ministers on an annual basis. Lawmakers elected Defense Minister Viola Amherd as next year’s president, succeeding Berset. Advertisement\", 'pubDate': '2023-12-13 13:30:49', 'image_url': None, 'source_id': 'winnipegfreepress', 'source_priority': 101538, 'country': ['canada'], 'category': ['top'], 'language': 'english'}\n"
     ]
    }
   ],
   "source": [
    "print(all_articles[15])"
   ]
  },
  {
   "cell_type": "markdown",
   "metadata": {},
   "source": [
    "## Create dataframe"
   ]
  },
  {
   "cell_type": "code",
   "execution_count": 20,
   "metadata": {},
   "outputs": [
    {
     "name": "stdout",
     "output_type": "stream",
     "text": [
      "60\n"
     ]
    }
   ],
   "source": [
    "import pandas as pd\n",
    "news_df = pd.DataFrame(all_articles)\n",
    "print(len(news_df))"
   ]
  },
  {
   "cell_type": "markdown",
   "metadata": {},
   "source": [
    "## Remove null values (to avoid errors with Hopsworks)"
   ]
  },
  {
   "cell_type": "code",
   "execution_count": 21,
   "metadata": {},
   "outputs": [
    {
     "data": {
      "text/plain": [
       "article_id          0\n",
       "title               0\n",
       "link                0\n",
       "keywords           21\n",
       "creator            24\n",
       "video_url          60\n",
       "description         5\n",
       "content             0\n",
       "pubDate             0\n",
       "image_url          24\n",
       "source_id           0\n",
       "source_priority     0\n",
       "country             0\n",
       "category            0\n",
       "language            0\n",
       "dtype: int64"
      ]
     },
     "execution_count": 21,
     "metadata": {},
     "output_type": "execute_result"
    }
   ],
   "source": [
    "news_df.isna().sum()"
   ]
  },
  {
   "cell_type": "code",
   "execution_count": 22,
   "metadata": {},
   "outputs": [],
   "source": [
    "news_df = news_df.drop(['keywords', 'creator', 'video_url', 'image_url'], axis=1)"
   ]
  },
  {
   "cell_type": "code",
   "execution_count": 23,
   "metadata": {},
   "outputs": [
    {
     "data": {
      "text/plain": [
       "article_id         0\n",
       "title              0\n",
       "link               0\n",
       "description        5\n",
       "content            0\n",
       "pubDate            0\n",
       "source_id          0\n",
       "source_priority    0\n",
       "country            0\n",
       "category           0\n",
       "language           0\n",
       "dtype: int64"
      ]
     },
     "execution_count": 23,
     "metadata": {},
     "output_type": "execute_result"
    }
   ],
   "source": [
    "news_df.isna().sum()"
   ]
  },
  {
   "cell_type": "code",
   "execution_count": 24,
   "metadata": {},
   "outputs": [
    {
     "name": "stdout",
     "output_type": "stream",
     "text": [
      "55\n"
     ]
    }
   ],
   "source": [
    "news_df = news_df.dropna()\n",
    "print(len(news_df))"
   ]
  }
 ],
 "metadata": {
  "kernelspec": {
   "display_name": "id2223",
   "language": "python",
   "name": "python3"
  },
  "language_info": {
   "codemirror_mode": {
    "name": "ipython",
    "version": 3
   },
   "file_extension": ".py",
   "mimetype": "text/x-python",
   "name": "python",
   "nbconvert_exporter": "python",
   "pygments_lexer": "ipython3",
   "version": "3.8.18"
  }
 },
 "nbformat": 4,
 "nbformat_minor": 2
}
