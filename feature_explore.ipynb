{
 "cells": [
  {
   "cell_type": "markdown",
   "metadata": {},
   "source": [
    "# Exploring news data to plan feature pipeline"
   ]
  },
  {
   "cell_type": "markdown",
   "metadata": {},
   "source": [
    "## Get API key"
   ]
  },
  {
   "cell_type": "code",
   "execution_count": 2,
   "outputs": [
    {
     "name": "stdout",
     "output_type": "stream",
     "text": [
      "pub_340711b5edb9d1e7f3b5dac8e7342e5a913b3\n"
     ]
    }
   ],
   "source": [
    "import os\n",
    "api_key= os.environ[\"NEWS_DATA_KEY\"]\n"
   ],
   "metadata": {
    "collapsed": false,
    "ExecuteTime": {
     "end_time": "2023-12-16T13:47:30.423092700Z",
     "start_time": "2023-12-16T13:47:30.349872500Z"
    }
   }
  },
  {
   "cell_type": "code",
   "execution_count": 1,
   "metadata": {
    "ExecuteTime": {
     "end_time": "2023-12-16T10:27:16.262287500Z",
     "start_time": "2023-12-16T10:27:16.245518200Z"
    }
   },
   "outputs": [],
   "source": [
    "# temporary key access method (add a API secret to repo)\n",
    "#with open(\"./NEWS_DATA_KEY.txt\", \"r\") as file:\n",
    "#    api_key = file.read()"
   ]
  },
  {
   "cell_type": "markdown",
   "metadata": {},
   "source": [
    "## Get articles"
   ]
  },
  {
   "cell_type": "code",
   "execution_count": 18,
   "metadata": {
    "ExecuteTime": {
     "end_time": "2023-12-16T10:34:51.294609200Z",
     "start_time": "2023-12-16T10:34:47.734491700Z"
    }
   },
   "outputs": [],
   "source": [
    "from newsdataapi import NewsDataApiClient\n",
    "from datetime import datetime\n",
    "\n",
    "# Create a NewsData API client\n",
    "client = NewsDataApiClient(apikey=api_key)\n",
    "\n",
    "# Today's date in the required format\n",
    "today = datetime.now().strftime('%Y-%m-%d')\n",
    "\n",
    "# Collect articles from many countries in a list\n",
    "all_articles = []\n",
    "country_codes = ['us', 'ca', 'ie', 'gb', 'au', 'nz']\n",
    "language = 'en'\n",
    "\n",
    "for country_code in country_codes:\n",
    "    # Fetch the news\n",
    "    response = client.news_api(country=country_code, language=language)\n",
    "\n",
    "    # Process the response\n",
    "    if 'status' in response and response['status'] == 'success':\n",
    "        articles = response['results']\n",
    "        # Process the articles as needed\n",
    "        for article in articles:\n",
    "            all_articles.append(article)\n",
    "    else:\n",
    "        print(\"Failed to retrieve data:\", response.get('message', 'Unknown Error'))"
   ]
  },
  {
   "cell_type": "code",
   "execution_count": 19,
   "metadata": {
    "ExecuteTime": {
     "end_time": "2023-12-16T10:34:54.447908800Z",
     "start_time": "2023-12-16T10:34:54.438516500Z"
    }
   },
   "outputs": [
    {
     "name": "stdout",
     "output_type": "stream",
     "text": [
      "{'article_id': '4a3e7c5b0356439cd887c443334e82c4', 'title': 'Madison Beer: “I can’t spend forever trying to beg people who refuse to give me a shot”', 'link': 'https://www.nme.com/features/madison-beer-i-cant-spend-forever-trying-to-beg-people-who-refuse-to-give-me-a-shot-3559521?utm_source=rss&utm_medium=rss&utm_campaign=madison-beer-i-cant-spend-forever-trying-to-beg-people-who-refuse-to-give-me-a-shot', 'keywords': ['Features', 'Music Features', 'Music Interviews'], 'creator': ['Paul Bugler'], 'video_url': None, 'description': 'Madison Beer on new album ‘Silence Between Songs’, her memoir ‘The Half of It” and love for 60’s music The post Madison Beer: “I can’t spend forever trying to beg people who refuse to give me a shot” appeared first on NME.', 'content': 'Madison Beer on new album ‘Silence Between Songs’, her memoir ‘The Half of It” and love for 60’s music. Madison Beer is an artist who has experienced the best – and very worst – of the internet. Her origin story reads like a Gen Z daydream: after Justin Bieber shared her YouTube cover of Etta James ‘ ‘At Last’, Beer’s name began trending on Twitter and she landed a record contract with Island Records. The Long Island native was just 13 at the time, but after the label tried to mould her into a “Disney queen”, she went independent and continued to cultivate an online fanbase. Today, she has 37.7 million Instagram followers and 18.8 million on TikTok – if she were an influencer, she would be able to command huge fees. But it’s music that has always been Beer’s calling. In 2019, she signed a new deal with Epic Records – her home to this day – and scored her first big hit: ‘All Day And All Night’, a house collaboration with producers Jax Jones and Martin Solveig. The following year, her stripped-down solo song ‘Selfish’ climbed to number 19 on the Billboard Hot 100. Beer was a bona fide pop star, but she was also grappling with the toxic pitfalls of being a young woman with an online presence. In 2021, she told NME that she had opened Twitter to find #MadisonBeerIsOverParty trending “probably five or six times over the course of the past few years”. Beer even had to deal with unimaginable slut-shaming when intimate teenage photos were leaked online – a soul-crushing episode she details in her recent memoir The Half of It. Yet throughout it all, Beer has remained an open book, especially when it comes to her mental health. She was diagnosed with borderline personality disorder in 2019 and has spoken about experiencing PTSD and suicidal thoughts as a result of her leaked nudes. “I do get affected by people saying negative things about me and I get my feelings hurt very easily,” she tells NME today when we meet at her label’s London office. “I’m a sensitive person. So I just don’t engage [now]; I just shut it off.” Despite all the online vitriol, Beer has blossomed into a vital and surprising artist who takes genuine musical risks. Her 2021 debut album ‘Liffe Support’ deftly blended pop, R&B and indie, but this year’s follow-up ‘Silence Between Songs’ finds her venturing into more psychedelic territory. There are echoes of her heroine, Lana Del Rey , but also ’60s icons including the Beatles and the Beach Boys . In addition to co-writing every song, Beer co-produced the album with Leroy Clampitt and Timothy ‘One Love’ Summers. “Both of them really have allowed me to flourish as an artist and producer and, like, not be afraid to ask for [a producer’s] credit,” she says. “I do think the industry has pushed back [on that]. And I think a lot of that is power dynamics. I know for me and a lot of other women, we feel intimidated to ask; we don’t feel like we’re worthy.” Here, in a typically candid conversation, Beer talks about her musical evolution, strategies to protect her mental health and plans to tour ‘Silence Between Songs’ in 2024. Who were your main musical influences when you were making this album? “This album had completely different musical inspirations than my first one. Mainly, we were listening to a lot of Beach Boys, Beatles, Zombies . I mean, the list is pretty endless, but those were kind of the main influences. And we wanted to kind of capture something that felt timeless in a lot of ways. I wanted people to be able to listen to this [album] and maybe not know what year it was from. I wanted it to have that, like, essence of classic-ness.” When did you start getting into those ’60s artists? Did you listen to them growing up? “No, I actually listened to ’50s music a lot growing up. I really was intrigued by it and thought it was so beautiful. And then I didn’t really deep-dive into ’60s [and] ’70s music until much later. I think it probably began with the Beatles. That was when I really was like, ‘Cool – this is what I am now going to make my entire personality trait.’ So yeah, I really loved the Beatles, and then I started to learn about the Beach Boys and Queen and so many other iconic groups that have shaped me so much. They were later discoveries, but very, very important ones.” The song ‘King Of Everything’ deals with powerful men in the music industry. What was going through your head when you wrote it? “There’s a few topics, honestly, within that song. There’s the direct relationship I’ve had with a few people – many people – who are those men in positions of power that I feel have maybe abused their power or not been great with it… I don’t quite know how to say it. You know, [there are] things I’ve seen and been through where now I’m older, I’m like, ‘That’s crazy.’ “But then also, [the song draws from] growing up around so many successful businessmen and big celebrities and billionaire managers and seeing how, like, truly lonely a lot of those people were. How you could have all the success and money and whatever in the world, but if you’re a miserable person, you’re gonna be miserable no matter what. It was pretty eye-opening to me and something I always recognised. So yeah, in the least harsh way possible, we wrote ‘King Of Everything’ [about all of that].” In February you published your memoir, The Half of It . Did you want the book to clear up misconceptions about you? Or are you at the point now where you don’t want to think about that? “The book is out [and] it’s like I closed it. I said everything I needed to say. If you read the book and afterwards you still want to have judgments or whatever [about me], I can’t change your mind and that’s fine. I know I’m still young, but I am starting to realise that in life, you create your circle and you create people that do know who you are. And I think when you’re exposed to millions of people on such a big scale, there are always gonna be people who judge you wrongly – everyone’s gonna have an opinion. ‘I don’t like what she did here.’ ‘I don’t like the way she looks today.’ “I can’t spend the rest of my life dying on a hill that I don’t need to, frankly. Like, I have people and fans that see me [for who I am] and I can’t spend forever trying to beg the people that refuse to give me a shot. I can’t always be like, ‘Please, I promise I’m a good person.’ So yeah, I try not to pay too much attention.” You could waste all your energy doing that and still get nowhere. “And I’ve done it for years: being a teenage girl and having what feels like everyone on the internet have the wrong idea of you and spread rumours about you. I mean, we all know what it was like to have a rumour go around high school about you. Imagine how it feels having the whole internet [do that]. There’s just an endless string-line of hate and mean comments, and it’s extremely difficult to grapple with. “So I’ve spent a lot of years trying to figure out, like, ‘If I’m gonna continue pursuing this career, this is something that I’m going to have to accept and be OK with, even though I don’t think it’s OK.’ And I am very big on explaining to everybody that your words do matter and you should take them seriously. You shouldn’t just say things because you think that you’re safe behind the keyboard – that’s total bullshit. Being someone in my position, I have to accept that people aren’t going to just suddenly wake up and be like, ‘Oh, I’m never gonna leave a [negative] comment again.’ So I have to figure out what I can do to be OK with that. And I think the answer is that I have to love the person I am and then feel like no one can mess with that.” Who is top of your collaborations wish list? “ Paul McCartney is top of my wish list for collaborations. Yeah, that’s all I’ll say, because everyone else I’m actually trying to work on. But Paul, if you’re watching this, hit me up.” A few years ago you made a big dance hit, ‘All Day And All Night’, with Jax Jones and Martin Solveig. Would you be interested in doing something like that again? “I love all music, so yeah, I would definitely be open to that. I think there’s so many awesome DJs and you know, I don’t know what you would categorise it as, but electronic [or] EDM [music]. So I would love to do something like that again. And people loved that song.” Madison Beer’s album ‘Silence Between Songs’ is out now via Epic Records. She tours the UK in March and April 2024', 'pubDate': '2023-12-16 10:00:31', 'image_url': 'https://www.nme.com/wp-content/uploads/2023/12/Madison-Beer_3.jpg', 'source_id': 'nme', 'source_priority': 305, 'country': ['canada'], 'category': ['entertainment'], 'language': 'english'}\n"
     ]
    }
   ],
   "source": [
    "print(all_articles[15])"
   ]
  },
  {
   "cell_type": "markdown",
   "metadata": {},
   "source": [
    "## Create dataframe"
   ]
  },
  {
   "cell_type": "code",
   "execution_count": 20,
   "metadata": {
    "ExecuteTime": {
     "end_time": "2023-12-16T10:35:39.371784400Z",
     "start_time": "2023-12-16T10:35:39.361493300Z"
    }
   },
   "outputs": [
    {
     "name": "stdout",
     "output_type": "stream",
     "text": [
      "60\n"
     ]
    }
   ],
   "source": [
    "import pandas as pd\n",
    "news_df = pd.DataFrame(all_articles)\n",
    "print(len(news_df))"
   ]
  },
  {
   "cell_type": "markdown",
   "metadata": {},
   "source": [
    "## Remove null values (to avoid errors with Hopsworks)"
   ]
  },
  {
   "cell_type": "code",
   "execution_count": 21,
   "metadata": {
    "ExecuteTime": {
     "end_time": "2023-12-16T10:35:40.971964600Z",
     "start_time": "2023-12-16T10:35:40.942494400Z"
    }
   },
   "outputs": [
    {
     "data": {
      "text/plain": "article_id          0\ntitle               0\nlink                0\nkeywords           26\ncreator            28\nvideo_url          60\ndescription        15\ncontent             0\npubDate             0\nimage_url           8\nsource_id           0\nsource_priority     0\ncountry             0\ncategory            0\nlanguage            0\ndtype: int64"
     },
     "execution_count": 21,
     "metadata": {},
     "output_type": "execute_result"
    }
   ],
   "source": [
    "news_df.isna().sum()"
   ]
  },
  {
   "cell_type": "code",
   "execution_count": 22,
   "metadata": {
    "ExecuteTime": {
     "end_time": "2023-12-16T10:35:42.181472100Z",
     "start_time": "2023-12-16T10:35:42.171469600Z"
    }
   },
   "outputs": [],
   "source": [
    "news_df = news_df.drop(['keywords', 'creator', 'video_url', 'image_url'], axis=1)"
   ]
  },
  {
   "cell_type": "code",
   "execution_count": 23,
   "metadata": {
    "ExecuteTime": {
     "end_time": "2023-12-16T10:35:42.945737Z",
     "start_time": "2023-12-16T10:35:42.931712300Z"
    }
   },
   "outputs": [
    {
     "data": {
      "text/plain": "article_id          0\ntitle               0\nlink                0\ndescription        15\ncontent             0\npubDate             0\nsource_id           0\nsource_priority     0\ncountry             0\ncategory            0\nlanguage            0\ndtype: int64"
     },
     "execution_count": 23,
     "metadata": {},
     "output_type": "execute_result"
    }
   ],
   "source": [
    "news_df.isna().sum()"
   ]
  },
  {
   "cell_type": "code",
   "execution_count": 24,
   "metadata": {
    "ExecuteTime": {
     "end_time": "2023-12-16T10:35:44.832662400Z",
     "start_time": "2023-12-16T10:35:44.809259800Z"
    }
   },
   "outputs": [
    {
     "name": "stdout",
     "output_type": "stream",
     "text": [
      "45\n"
     ]
    }
   ],
   "source": [
    "news_df = news_df.dropna()\n",
    "print(len(news_df))"
   ]
  },
  {
   "cell_type": "code",
   "execution_count": 25,
   "outputs": [],
   "source": [
    "news_df['pubDate'] = pd.to_datetime(news_df['pubDate']).dt.date"
   ],
   "metadata": {
    "collapsed": false,
    "ExecuteTime": {
     "end_time": "2023-12-16T10:35:45.661844200Z",
     "start_time": "2023-12-16T10:35:45.649310500Z"
    }
   }
  },
  {
   "cell_type": "code",
   "execution_count": 26,
   "outputs": [
    {
     "data": {
      "text/plain": "0     2023-12-16\n1     2023-12-16\n2     2023-12-16\n3     2023-12-16\n4     2023-12-16\n5     2023-12-16\n6     2023-12-16\n7     2023-12-16\n8     2023-12-16\n9     2023-12-16\n10    2023-12-16\n11    2023-12-16\n12    2023-12-16\n13    2023-12-16\n14    2023-12-16\n15    2023-12-16\n16    2023-12-16\n17    2023-12-16\n18    2023-12-16\n19    2023-12-16\n26    2023-12-16\n30    2023-12-16\n31    2023-12-16\n34    2023-12-16\n35    2023-12-16\n36    2023-12-16\n37    2023-12-16\n38    2023-12-16\n39    2023-12-16\n40    2023-12-16\n41    2023-12-16\n42    2023-12-16\n43    2023-12-16\n44    2023-12-16\n45    2023-12-16\n46    2023-12-16\n47    2023-12-16\n49    2023-12-16\n51    2023-12-16\n52    2023-12-16\n54    2023-12-16\n55    2023-12-16\n56    2023-12-16\n57    2023-12-16\n59    2023-12-16\nName: pubDate, dtype: object"
     },
     "execution_count": 26,
     "metadata": {},
     "output_type": "execute_result"
    }
   ],
   "source": [
    "news_df['pubDate'] "
   ],
   "metadata": {
    "collapsed": false,
    "ExecuteTime": {
     "end_time": "2023-12-16T10:35:46.243024100Z",
     "start_time": "2023-12-16T10:35:46.206025Z"
    }
   }
  },
  {
   "cell_type": "code",
   "execution_count": null,
   "outputs": [],
   "source": [],
   "metadata": {
    "collapsed": false
   }
  }
 ],
 "metadata": {
  "kernelspec": {
   "display_name": "id2223",
   "language": "python",
   "name": "python3"
  },
  "language_info": {
   "codemirror_mode": {
    "name": "ipython",
    "version": 3
   },
   "file_extension": ".py",
   "mimetype": "text/x-python",
   "name": "python",
   "nbconvert_exporter": "python",
   "pygments_lexer": "ipython3",
   "version": "3.8.18"
  }
 },
 "nbformat": 4,
 "nbformat_minor": 2
}
