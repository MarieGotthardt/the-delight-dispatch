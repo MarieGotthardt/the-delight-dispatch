{
 "cells": [
  {
   "cell_type": "markdown",
   "metadata": {},
   "source": [
    "# Exploring news data to plan feature pipeline"
   ]
  },
  {
   "cell_type": "markdown",
   "metadata": {},
   "source": [
    "## Get API key"
   ]
  },
  {
   "cell_type": "code",
   "execution_count": 1,
   "outputs": [],
   "source": [
    "import os\n",
    "api_key= os.environ[\"NEWS_DATA_KEY\"]\n"
   ],
   "metadata": {
    "collapsed": false,
    "ExecuteTime": {
     "end_time": "2023-12-17T10:09:10.894103800Z",
     "start_time": "2023-12-17T10:09:10.869467900Z"
    }
   }
  },
  {
   "cell_type": "code",
   "execution_count": 2,
   "metadata": {
    "ExecuteTime": {
     "end_time": "2023-12-17T10:09:10.935291500Z",
     "start_time": "2023-12-17T10:09:10.893101600Z"
    }
   },
   "outputs": [],
   "source": [
    "# temporary key access method (add a API secret to repo)\n",
    "#with open(\"./NEWS_DATA_KEY.txt\", \"r\") as file:\n",
    "#    api_key = file.read()"
   ]
  },
  {
   "cell_type": "markdown",
   "metadata": {},
   "source": [
    "## Get articles"
   ]
  },
  {
   "cell_type": "code",
   "execution_count": 3,
   "metadata": {
    "ExecuteTime": {
     "end_time": "2023-12-17T10:09:14.898536700Z",
     "start_time": "2023-12-17T10:09:10.904653800Z"
    }
   },
   "outputs": [],
   "source": [
    "from newsdataapi import NewsDataApiClient\n",
    "from datetime import datetime\n",
    "\n",
    "# Create a NewsData API client\n",
    "client = NewsDataApiClient(apikey=api_key)\n",
    "\n",
    "# Today's date in the required format\n",
    "today = datetime.now().strftime('%Y-%m-%d')\n",
    "\n",
    "# Collect articles from many countries in a list\n",
    "all_articles = []\n",
    "country_codes = ['us', 'ca', 'ie', 'gb', 'au', 'nz']\n",
    "language = 'en'\n",
    "\n",
    "for country_code in country_codes:\n",
    "    # Fetch the news\n",
    "    response = client.news_api(country=country_code, language=language)\n",
    "\n",
    "    # Process the response\n",
    "    if 'status' in response and response['status'] == 'success':\n",
    "        articles = response['results']\n",
    "        # Process the articles as needed\n",
    "        for article in articles:\n",
    "            all_articles.append(article)\n",
    "    else:\n",
    "        print(\"Failed to retrieve data:\", response.get('message', 'Unknown Error'))"
   ]
  },
  {
   "cell_type": "code",
   "execution_count": 4,
   "metadata": {
    "ExecuteTime": {
     "end_time": "2023-12-17T10:09:15.039592600Z",
     "start_time": "2023-12-17T10:09:14.887909Z"
    }
   },
   "outputs": [
    {
     "name": "stdout",
     "output_type": "stream",
     "text": [
      "{'article_id': '4ca7f6091b05942f37deb2a97f2eb7de', 'title': 'Ian Wright to step down as Match of the Day pundit at end of current season', 'link': 'https://www.theguardian.com/football/2023/dec/17/ian-wright-match-of-the-day-pundit-bbc', 'keywords': ['Football', 'Sport', 'Arsenal', 'BBC', 'Media', 'Television & radio'], 'creator': ['Guardian sport'], 'video_url': None, 'description': 'Former Arsenal striker announces he will leave role in MayBBC show ‘will always be my Graceland’, says 60-year-oldIan Wright will step down from his regular punditry role with the BBC’s Match of the Day programme at the end of the football season in May 2024. The former Arsenal and England striker announced the news via social media on Sunday morning.“After my debut show whilst still a player in 1997 and many more memorable years, I’ll be stepping back from BBC MOTD at the end of this season,” Wright posted on X, formerly Twitter. “I feel very privileged to have had such an incredible run on the most iconic football show in the world.”More to follow Continue reading...', 'content': \"Ian Wright will step down from his regular punditry role with the BBC’s Match of the Day programme at the end of the football season in May 2024. The former Arsenal and England striker announced the news via social media on Sunday morning. “After my debut show whilst still a player in 1997 and many more memorable years, I’ll be stepping back from BBC MOTD at the end of this season,” Wright posted on X, formerly Twitter. “I feel very privileged to have had such an incredible run on the most iconic football show in the world.” The 60-year-old made the announcement alongside a separate post from the official Match of the Day account on X. “Ian Wright will step down as a pundit from Match of the Day at the end of the season,” it read. “Thank you for everything, Wrighty.” Wright made his debut on the long-running football programme in 1997, while he was still a player, and went on to become a regular pundit after his retirement in 2002. “Anyone that knows my story knows how much the show has meant to me since I was [a] young boy,” Wright added in his statement. “MOTD is my Holy Grail. On my first ever show, I told Des Lynam, ‘This is my Graceland’. It will always be my Graceland and I will always be watching.” “I’m stepping back having made great friends and many great memories,” Wright continued. “This decision has been coming for a while, maybe my [60th] birthday earlier this year fast tracked it a little, but ultimately it’s time to do a few more different things with my Saturdays.” “I’m really looking forward to my last months on the show and covering what will hopefully be an amazing Premier League title race.” skip past newsletter promotion Sign up to Football Daily Free daily newsletter Kick off your evenings with the Guardian's take on the world of football Privacy Notice: Newsletters may contain info about charities, online ads, and content funded by outside parties. For more information see our Privacy Policy . We use Google reCaptcha to protect our website and the Google Privacy Policy and Terms of Service apply. after newsletter promotion More to follow\", 'pubDate': '2023-12-17 09:48:02', 'image_url': 'https://i.guim.co.uk/img/media/a64c76582d4201cc0e17e229087f126e4bbf126c/223_0_3254_1953/master/3254.jpg?width=140&quality=85&auto=format&fit=max&s=18060097fec987fdb1c25cb23a5db2e5', 'source_id': 'theguardian', 'source_priority': 106, 'country': ['united kingdom', 'singapore', 'canada', 'india'], 'category': ['sports'], 'language': 'english'}\n"
     ]
    }
   ],
   "source": [
    "print(all_articles[15])"
   ]
  },
  {
   "cell_type": "markdown",
   "metadata": {},
   "source": [
    "## Create dataframe"
   ]
  },
  {
   "cell_type": "code",
   "execution_count": 5,
   "metadata": {
    "ExecuteTime": {
     "end_time": "2023-12-17T10:09:16.435345600Z",
     "start_time": "2023-12-17T10:09:14.950250500Z"
    }
   },
   "outputs": [
    {
     "name": "stdout",
     "output_type": "stream",
     "text": [
      "60\n"
     ]
    }
   ],
   "source": [
    "import pandas as pd\n",
    "news_df = pd.DataFrame(all_articles)\n",
    "print(len(news_df))"
   ]
  },
  {
   "cell_type": "markdown",
   "metadata": {},
   "source": [
    "## Remove null values (to avoid errors with Hopsworks)"
   ]
  },
  {
   "cell_type": "code",
   "execution_count": 6,
   "metadata": {
    "ExecuteTime": {
     "end_time": "2023-12-17T10:09:16.508077200Z",
     "start_time": "2023-12-17T10:09:16.444872500Z"
    }
   },
   "outputs": [
    {
     "data": {
      "text/plain": "article_id          0\ntitle               0\nlink                0\nkeywords           21\ncreator            25\nvideo_url          60\ndescription        14\ncontent             0\npubDate             0\nimage_url          12\nsource_id           0\nsource_priority     0\ncountry             0\ncategory            0\nlanguage            0\ndtype: int64"
     },
     "execution_count": 6,
     "metadata": {},
     "output_type": "execute_result"
    }
   ],
   "source": [
    "news_df.isna().sum()"
   ]
  },
  {
   "cell_type": "code",
   "execution_count": 7,
   "metadata": {
    "ExecuteTime": {
     "end_time": "2023-12-17T10:09:16.510079300Z",
     "start_time": "2023-12-17T10:09:16.469450500Z"
    }
   },
   "outputs": [],
   "source": [
    "news_df = news_df.drop(['keywords', 'creator', 'video_url', 'image_url'], axis=1)"
   ]
  },
  {
   "cell_type": "code",
   "execution_count": 8,
   "metadata": {
    "ExecuteTime": {
     "end_time": "2023-12-17T10:09:16.557480800Z",
     "start_time": "2023-12-17T10:09:16.495017900Z"
    }
   },
   "outputs": [
    {
     "data": {
      "text/plain": "article_id          0\ntitle               0\nlink                0\ndescription        14\ncontent             0\npubDate             0\nsource_id           0\nsource_priority     0\ncountry             0\ncategory            0\nlanguage            0\ndtype: int64"
     },
     "execution_count": 8,
     "metadata": {},
     "output_type": "execute_result"
    }
   ],
   "source": [
    "news_df.isna().sum()"
   ]
  },
  {
   "cell_type": "code",
   "execution_count": 9,
   "metadata": {
    "ExecuteTime": {
     "end_time": "2023-12-17T10:09:16.581123800Z",
     "start_time": "2023-12-17T10:09:16.514085200Z"
    }
   },
   "outputs": [
    {
     "name": "stdout",
     "output_type": "stream",
     "text": [
      "46\n"
     ]
    }
   ],
   "source": [
    "news_df = news_df.dropna()\n",
    "print(len(news_df))"
   ]
  },
  {
   "cell_type": "code",
   "execution_count": 16,
   "outputs": [],
   "source": [
    "news_df['pubDate'] = pd.to_datetime(news_df['pubDate']).dt.date\n",
    "news_df['pubDate'] = news_df['pubDate'].astype(\"string\")"
   ],
   "metadata": {
    "collapsed": false,
    "ExecuteTime": {
     "end_time": "2023-12-17T10:10:37.575467800Z",
     "start_time": "2023-12-17T10:10:37.540563200Z"
    }
   }
  },
  {
   "cell_type": "code",
   "execution_count": 19,
   "outputs": [
    {
     "data": {
      "text/plain": "str"
     },
     "execution_count": 19,
     "metadata": {},
     "output_type": "execute_result"
    }
   ],
   "source": [
    "type(news_df['pubDate'].iloc[0])"
   ],
   "metadata": {
    "collapsed": false,
    "ExecuteTime": {
     "end_time": "2023-12-17T10:13:48.311278900Z",
     "start_time": "2023-12-17T10:13:48.237841600Z"
    }
   }
  },
  {
   "cell_type": "code",
   "execution_count": 11,
   "outputs": [],
   "source": [],
   "metadata": {
    "collapsed": false,
    "ExecuteTime": {
     "end_time": "2023-12-17T10:09:16.697384800Z",
     "start_time": "2023-12-17T10:09:16.598338500Z"
    }
   }
  }
 ],
 "metadata": {
  "kernelspec": {
   "display_name": "id2223",
   "language": "python",
   "name": "python3"
  },
  "language_info": {
   "codemirror_mode": {
    "name": "ipython",
    "version": 3
   },
   "file_extension": ".py",
   "mimetype": "text/x-python",
   "name": "python",
   "nbconvert_exporter": "python",
   "pygments_lexer": "ipython3",
   "version": "3.8.18"
  }
 },
 "nbformat": 4,
 "nbformat_minor": 2
}
